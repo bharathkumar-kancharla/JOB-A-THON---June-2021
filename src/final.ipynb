{
 "cells": [
  {
   "cell_type": "markdown",
   "metadata": {},
   "source": [
    "## Load Libraries"
   ]
  },
  {
   "cell_type": "code",
   "execution_count": 47,
   "metadata": {},
   "outputs": [],
   "source": [
    "import os\n",
    "import pandas as pd\n",
    "from datetime import datetime, timedelta\n",
    "\n",
    "from pyspark.sql import SparkSession\n",
    "from pyspark.sql.functions import *\n",
    "from pyspark.sql.window import Window"
   ]
  },
  {
   "cell_type": "markdown",
   "metadata": {},
   "source": [
    "## Initiate Spark Session and Set Spark Parameters"
   ]
  },
  {
   "cell_type": "code",
   "execution_count": 48,
   "metadata": {},
   "outputs": [
    {
     "data": {
      "text/html": [
       "<table border='1'>\n",
       "<tr><th>key</th><th>value</th></tr>\n",
       "<tr><td>spark.sql.legacy....</td><td>LEGACY</td></tr>\n",
       "</table>\n"
      ],
      "text/plain": [
       "+--------------------+------+\n",
       "|                 key| value|\n",
       "+--------------------+------+\n",
       "|spark.sql.legacy....|LEGACY|\n",
       "+--------------------+------+"
      ]
     },
     "execution_count": 48,
     "metadata": {},
     "output_type": "execute_result"
    }
   ],
   "source": [
    "spark = SparkSession.builder.appName(\"June 2021\").getOrCreate()\n",
    "\n",
    "spark.conf.set('spark.sql.repl.eagerEval.enabled', True)\n",
    "spark.conf.set(\"spark.sql.session.timeZone\", \"IST\")\n",
    "spark.sql(\"set spark.sql.legacy.timeParserPolicy=LEGACY\")"
   ]
  },
  {
   "cell_type": "markdown",
   "metadata": {},
   "source": [
    "## Define Required Directories"
   ]
  },
  {
   "cell_type": "code",
   "execution_count": 49,
   "metadata": {},
   "outputs": [],
   "source": [
    "PROJECT_DIR = \"/media/bharathkancharla/techspace/Data Science World/Challenges/Analytical Vidhya/JOB-A-THON - June 2021\"\n",
    "DATA_DIR = os.path.join(PROJECT_DIR, \"data\")"
   ]
  },
  {
   "cell_type": "code",
   "execution_count": 50,
   "metadata": {},
   "outputs": [],
   "source": [
    "ref_date = \"28-May-2018\""
   ]
  },
  {
   "cell_type": "markdown",
   "metadata": {},
   "source": [
    "## Support Functions"
   ]
  },
  {
   "cell_type": "markdown",
   "metadata": {},
   "source": [
    "### Pandas date sequence function"
   ]
  },
  {
   "cell_type": "code",
   "execution_count": 51,
   "metadata": {},
   "outputs": [],
   "source": [
    "def date_shift(ref, noofdayshift, as_string=False):\n",
    "    shift_date = pd.to_datetime(ref) + timedelta(days=noofdayshift)\n",
    "    if as_string:\n",
    "        return str(shift_date)\n",
    "    else:\n",
    "        return shift_date"
   ]
  },
  {
   "cell_type": "markdown",
   "metadata": {},
   "source": [
    "### ETL Pipeline Function"
   ]
  },
  {
   "cell_type": "code",
   "execution_count": 52,
   "metadata": {},
   "outputs": [],
   "source": [
    "def feature_generation(usersData, visitorLogs):\n",
    "    \"\"\"\n",
    "    This function build ETL Pipeline such that passing the information of user data and log data,\n",
    "    It can generate the input feature table automatically\n",
    "\n",
    "    Args:\n",
    "        usersData ([DataFrame]): Registered user information like signup date and segment.\n",
    "        visitorLogs ([DataFrame]):  Browsing log data of all the visitors and the users.\n",
    "\n",
    "    Returns:\n",
    "        [DataFrame]: feature table\n",
    "    \"\"\"\n",
    "    ## Create a time User VS Total Timeline data frame\n",
    "    timeline = pd.DataFrame(\n",
    "        pd.date_range(start=date_shift(ref_date, -21), end=date_shift(ref_date, -1))\n",
    "    )\n",
    "    users_df = users.select(\"UserID\").distinct().toPandas()\n",
    "\n",
    "    timeline[\"key\"] = 0\n",
    "    users_df[\"key\"] = 0\n",
    "\n",
    "    userTimeline = users_df.merge(timeline, on=\"key\", how=\"outer\")\n",
    "    userTimeline = userTimeline.rename(columns={0: \"VisitDateTime\"})\n",
    "    userTimeline = userTimeline.drop(\"key\", axis=1)\n",
    "\n",
    "    spark.conf.set(\"spark.sql.session.timeZone\", \"UTC\")\n",
    "    userTimeline = spark.createDataFrame(userTimeline)\n",
    "\n",
    "    spark.conf.set(\"spark.sql.session.timeZone\", \"IST\")\n",
    "    userTimeline = userTimeline.withColumn(\n",
    "        \"VisitDateTime\", to_date(col(\"VisitDateTime\").cast(\"date\"))\n",
    "    )\n",
    "\n",
    "    merged_data = userTimeline.join(\n",
    "        visitorLogs, on=[\"UserID\", \"VisitDateTime\"], how=\"left\"\n",
    "    )\n",
    "\n",
    "    final_merged_data = merged_data.join(usersData, on=\"UserID\", how=\"left\").orderBy(\n",
    "        \"UserID\", desc(\"VisitDateTime\")\n",
    "    )\n",
    "    final_merged_data = final_merged_data.withColumn(\n",
    "        \"last_7_days\", date_add(to_date(lit(ref_date), format=\"dd-MMM-yyyy\"), -7)\n",
    "    )\n",
    "    final_merged_data = final_merged_data.withColumn(\n",
    "        \"last_15_days\", date_add(to_date(lit(ref_date), format=\"dd-MMM-yyyy\"), -15)\n",
    "    )\n",
    "    final_merged_data = final_merged_data.withColumn(\n",
    "        \"Is_Active\", when(col(\"webClientID\").isNotNull(), 1).otherwise(0)\n",
    "    )\n",
    "\n",
    "    windowval = (\n",
    "        Window.partitionBy(\"UserID\")\n",
    "        .orderBy(desc(\"VisitDateTime\"))\n",
    "        .rangeBetween(Window.unboundedPreceding, 0)\n",
    "    )\n",
    "    final_merged_data = final_merged_data.withColumn(\n",
    "        \"cum_sum\", sum(\"Is_Active\").over(windowval)\n",
    "    )\n",
    "\n",
    "    ## -------------------------------------Features Generation------------------------------------------------------------------\n",
    "    # User_Vintage\n",
    "    User_Vintage = (\n",
    "        usersData.select(\"UserID\", \"Signup Date\")\n",
    "        .withColumn(\n",
    "            \"User_Vintage\",\n",
    "            datediff(\n",
    "                to_date(lit(ref_date), format=\"dd-MMM-yyyy\"), to_date(\"Signup Date\")\n",
    "            ),\n",
    "        )\n",
    "        .select(\"UserID\", \"User_Vintage\")\n",
    "    )\n",
    "\n",
    "    # Most_Active_OS\n",
    "    counts = final_merged_data.groupBy([\"UserID\", \"OS\"]).count()\n",
    "    counts = counts.filter(col(\"OS\").isNotNull()).orderBy(\"UserID\", desc(\"count\"))\n",
    "    win = Window().partitionBy(\"UserID\").orderBy(col(\"count\").desc())\n",
    "    result = (\n",
    "        counts.withColumn(\"row_num\", row_number().over(win))\n",
    "        .where(col(\"row_num\") == 1)\n",
    "        .select(\"UserID\", \"OS\")\n",
    "    )\n",
    "    Most_Active_OS = result.orderBy(\"UserID\").withColumnRenamed(\"OS\", \"Most_Active_OS\")\n",
    "\n",
    "    # Recently_Viewed_Product\n",
    "    Recently_Viewed_Product = (\n",
    "        final_merged_data.filter(col(\"Activity\") == \"pageload\")\n",
    "        .filter(col(\"ProductID\").isNotNull())\n",
    "        .orderBy(\"UserID\", desc(\"VisitDateTime\"))\n",
    "        .drop_duplicates([\"UserID\"])\n",
    "        .select(\"UserID\", \"ProductID\")\n",
    "    ).withColumnRenamed(\"ProductID\", \"Recently_Viewed_Product\")\n",
    "\n",
    "    # No_of_days_Visited_7_Days\n",
    "    last_7_days = final_merged_data.filter(\n",
    "        (col(\"VisitDateTime\") >= col(\"last_7_days\")) & (col(\"webClientID\").isNotNull())\n",
    "    )\n",
    "\n",
    "    No_of_days_Visited_7_Days = (\n",
    "        final_merged_data.filter(\n",
    "            (col(\"VisitDateTime\") >= col(\"last_7_days\"))\n",
    "            & (col(\"webClientID\").isNotNull())\n",
    "        )\n",
    "        .groupBy(\"UserID\")\n",
    "        .agg(countDistinct(\"VisitDateTime\").alias(\"No_of_days_Visited_7_Days\"))\n",
    "    )\n",
    "\n",
    "    # Pageloads_last_7_days & Clicks_last_7_days\n",
    "    pageload_clicks = (\n",
    "        last_7_days.filter(\n",
    "            (col(\"VisitDateTime\") >= col(\"last_7_days\"))\n",
    "            & (col(\"webClientID\").isNotNull())\n",
    "        )\n",
    "        .groupBy(\"UserID\")\n",
    "        .pivot(\"Activity\")\n",
    "        .count()\n",
    "        .drop(\"null\")\n",
    "    )\n",
    "\n",
    "    # Most_Viewed_product_15_Days\n",
    "    last_15_days = final_merged_data.filter(\n",
    "        (col(\"VisitDateTime\") >= col(\"last_15_days\")) & (col(\"ProductID\").isNotNull())\n",
    "    ).orderBy(\"UserID\", \"VisitDateTime\")\n",
    "\n",
    "    counts = last_15_days.groupBy([\"UserID\", \"ProductID\"]).count()\n",
    "    counts = counts.filter(col(\"ProductID\").isNotNull()).orderBy(\n",
    "        \"UserID\", desc(\"count\")\n",
    "    )\n",
    "    win = Window().partitionBy(\"UserID\").orderBy(col(\"count\").desc())\n",
    "    most_viewed_product = (\n",
    "        counts.withColumn(\"row_num\", row_number().over(win))\n",
    "        .where(col(\"row_num\") == 1)\n",
    "        .drop_duplicates([\"UserID\"])\n",
    "        .select(\"UserID\", \"ProductID\")\n",
    "    )\n",
    "    most_viewed_product = most_viewed_product.withColumnRenamed(\n",
    "        \"ProductID\", \"Most_Viewed_product_15_Days\"\n",
    "    )\n",
    "\n",
    "    no_products_viewed = last_15_days.groupBy(\"UserID\").agg(\n",
    "        expr(\"count(distinct ProductID)\").alias(\"No_Of_Products_Viewed_15_Days\")\n",
    "    )\n",
    "\n",
    "    useridDF = usersData.select(\"UserID\").distinct()\n",
    "    # Join Multiple DataFrames\n",
    "    finalDF = (\n",
    "        useridDF.join(No_of_days_Visited_7_Days, on=[\"UserID\"], how=\"left\")\n",
    "        .join(no_products_viewed, on=[\"UserID\"], how=\"left\")\n",
    "        .join(User_Vintage, on=[\"UserID\"], how=\"left\")\n",
    "        .join(most_viewed_product, on=[\"UserID\"], how=\"left\")\n",
    "        .join(Most_Active_OS, on=[\"UserID\"], how=\"left\")\n",
    "        .join(Recently_Viewed_Product, on=[\"UserID\"], how=\"left\")\n",
    "        .join(pageload_clicks, on=[\"UserID\"], how=\"left\")\n",
    "    )\n",
    "\n",
    "    finalDF = finalDF.withColumnRenamed(\"click\", \"Clicks_last_7_days\")\n",
    "    finalDF = finalDF.withColumnRenamed(\"pageload\", \"Pageloads_last_7_days\")\n",
    "\n",
    "    # If a user has not viewed any product then put it as Product101.\n",
    "    finalDF = finalDF.na.fill(value=\"Product101\", subset=[\"Most_Viewed_product_15_Days\"])\n",
    "    finalDF = finalDF.na.fill(value=\"Product101\", subset=[\"Recently_Viewed_Product\"])\n",
    "    finalDF = finalDF.na.fill(value=0, subset=[\"No_of_days_Visited_7_Days\",\"No_Of_Products_Viewed_15_Days\", \n",
    "    \"User_Vintage\", \"Clicks_last_7_days\",\"Pageloads_last_7_days\"])\n",
    "    \n",
    "    finalDF = finalDF.orderBy(\"UserID\")\n",
    "\n",
    "    return finalDF"
   ]
  },
  {
   "cell_type": "markdown",
   "metadata": {},
   "source": [
    "## Load Data"
   ]
  },
  {
   "cell_type": "code",
   "execution_count": 53,
   "metadata": {},
   "outputs": [
    {
     "data": {
      "text/html": [
       "<table border='1'>\n",
       "<tr><th>webClientID</th><th>VisitDateTime</th><th>ProductID</th><th>UserID</th><th>Activity</th><th>Browser</th><th>OS</th><th>City</th><th>Country</th></tr>\n",
       "<tr><td>WI10000050298</td><td>2018-05-07 04:28:...</td><td>pr100631</td><td>null</td><td>null</td><td>Chrome Mobile</td><td>Android</td><td>Chennai</td><td>India</td></tr>\n",
       "<tr><td>WI10000025922</td><td>2018-05-13 07:26:...</td><td>pr100707</td><td>null</td><td>null</td><td>Chrome</td><td>Windows</td><td>null</td><td>Taiwan</td></tr>\n",
       "<tr><td>WI100000204522</td><td>2018-05-11 11:43:...</td><td>pr100030</td><td>null</td><td>click</td><td>Chrome</td><td>windows</td><td>Gurgaon</td><td>India</td></tr>\n",
       "<tr><td>WI10000011974</td><td>2018-05-13 15:20:...</td><td>Pr100192</td><td>null</td><td>CLICK</td><td>Chrome</td><td>Windows</td><td> </td><td> </td></tr>\n",
       "<tr><td>WI100000441953</td><td>2018-05-08 20:44:...</td><td>Pr100762</td><td>null</td><td>click</td><td>Chrome</td><td>mac os x</td><td>Iselin</td><td>United States</td></tr>\n",
       "<tr><td>WI10000042224</td><td>2018-05-24 13:10:...</td><td>pr100109</td><td>null</td><td>click</td><td>Chrome</td><td>Mac OS X</td><td>null</td><td>Taiwan</td></tr>\n",
       "<tr><td>WI100000532584</td><td>2018-05-23 14:52:...</td><td>pr100020</td><td>null</td><td>click</td><td>Opera</td><td>Windows</td><td>Baku</td><td>Azerbaijan</td></tr>\n",
       "<tr><td>WI100000377250</td><td>2018-05-13 03:13:...</td><td>Pr101495</td><td>null</td><td>CLICK</td><td>Chrome</td><td>Windows</td><td>Bayan Lepas</td><td>Malaysia</td></tr>\n",
       "<tr><td>WI10000031378</td><td>2018-05-10 02:04:...</td><td>Pr100013</td><td>null</td><td>click</td><td>Chrome</td><td>Windows</td><td>Chakwal</td><td>Pakistan</td></tr>\n",
       "<tr><td>WI100000278874</td><td>2018-05-25 13:40:...</td><td>Pr101701</td><td>null</td><td>PAGELOAD</td><td>Chrome</td><td>Windows</td><td> </td><td> </td></tr>\n",
       "<tr><td>WI100000971872</td><td>2018-05-27 05:35:...</td><td>Pr100025</td><td>null</td><td>null</td><td>Chrome Mobile</td><td>Android</td><td>null</td><td>India</td></tr>\n",
       "<tr><td>WI100000746503</td><td>2018-05-16 11:56:...</td><td>Pr100896</td><td>null</td><td>pageload</td><td>Chrome</td><td>windows</td><td>Lugo</td><td>Italy</td></tr>\n",
       "<tr><td>WI100000535505</td><td>2018-05-23 18:40:...</td><td>Pr100086</td><td>null</td><td>click</td><td>Chrome</td><td>Windows</td><td>null</td><td>Norway</td></tr>\n",
       "<tr><td>WI10000021996</td><td>1527051855673000000</td><td>Pr100526</td><td>null</td><td>null</td><td>Chrome</td><td>Mac OS X</td><td>Escondido</td><td>United States Esc...</td></tr>\n",
       "<tr><td>WI100000112772</td><td>1526366895249000000</td><td>Pr100017</td><td>U106593</td><td>click</td><td>Chrome Mobile</td><td>Android</td><td> </td><td>   </td></tr>\n",
       "<tr><td>WI100000192090</td><td>2018-05-08 16:53:...</td><td>pr100157</td><td>null</td><td>click</td><td>Chrome</td><td>Windows</td><td>Saltash</td><td>United Kingdom</td></tr>\n",
       "<tr><td>WI100000634672</td><td>2018-05-27 07:16:...</td><td>pr100469</td><td>null</td><td>pageload</td><td>Chrome Mobile</td><td>Android</td><td>Mumbai</td><td>India</td></tr>\n",
       "<tr><td>WI100000199021</td><td>1526982800506000000</td><td>Pr100681</td><td>null</td><td>click</td><td>Chrome</td><td>Windows</td><td>null</td><td>India</td></tr>\n",
       "<tr><td>WI10000018251</td><td>2018-05-16 16:07:...</td><td>Pr100086</td><td>null</td><td>click</td><td>Chrome</td><td>Windows</td><td>Dallas</td><td>United States</td></tr>\n",
       "<tr><td>WI1000008108</td><td>2018-05-08 02:35:...</td><td>Pr100157</td><td>null</td><td>CLICK</td><td>Chrome</td><td>Windows</td><td>null</td><td>Republic of Korea</td></tr>\n",
       "</table>\n",
       "only showing top 20 rows\n"
      ],
      "text/plain": [
       "+--------------+--------------------+---------+-------+--------+-------------+--------+-----------+--------------------+\n",
       "|   webClientID|       VisitDateTime|ProductID| UserID|Activity|      Browser|      OS|       City|             Country|\n",
       "+--------------+--------------------+---------+-------+--------+-------------+--------+-----------+--------------------+\n",
       "| WI10000050298|2018-05-07 04:28:...| pr100631|   null|    null|Chrome Mobile| Android|    Chennai|               India|\n",
       "| WI10000025922|2018-05-13 07:26:...| pr100707|   null|    null|       Chrome| Windows|       null|              Taiwan|\n",
       "|WI100000204522|2018-05-11 11:43:...| pr100030|   null|   click|       Chrome| windows|    Gurgaon|               India|\n",
       "| WI10000011974|2018-05-13 15:20:...| Pr100192|   null|   CLICK|       Chrome| Windows|           |                    |\n",
       "|WI100000441953|2018-05-08 20:44:...| Pr100762|   null|   click|       Chrome|mac os x|     Iselin|       United States|\n",
       "| WI10000042224|2018-05-24 13:10:...| pr100109|   null|   click|       Chrome|Mac OS X|       null|              Taiwan|\n",
       "|WI100000532584|2018-05-23 14:52:...| pr100020|   null|   click|        Opera| Windows|       Baku|          Azerbaijan|\n",
       "|WI100000377250|2018-05-13 03:13:...| Pr101495|   null|   CLICK|       Chrome| Windows|Bayan Lepas|            Malaysia|\n",
       "| WI10000031378|2018-05-10 02:04:...| Pr100013|   null|   click|       Chrome| Windows|    Chakwal|            Pakistan|\n",
       "|WI100000278874|2018-05-25 13:40:...| Pr101701|   null|PAGELOAD|       Chrome| Windows|           |                    |\n",
       "|WI100000971872|2018-05-27 05:35:...| Pr100025|   null|    null|Chrome Mobile| Android|       null|               India|\n",
       "|WI100000746503|2018-05-16 11:56:...| Pr100896|   null|pageload|       Chrome| windows|       Lugo|               Italy|\n",
       "|WI100000535505|2018-05-23 18:40:...| Pr100086|   null|   click|       Chrome| Windows|       null|              Norway|\n",
       "| WI10000021996| 1527051855673000000| Pr100526|   null|    null|       Chrome|Mac OS X|  Escondido|United States Esc...|\n",
       "|WI100000112772| 1526366895249000000| Pr100017|U106593|   click|Chrome Mobile| Android|           |                    |\n",
       "|WI100000192090|2018-05-08 16:53:...| pr100157|   null|   click|       Chrome| Windows|    Saltash|      United Kingdom|\n",
       "|WI100000634672|2018-05-27 07:16:...| pr100469|   null|pageload|Chrome Mobile| Android|     Mumbai|               India|\n",
       "|WI100000199021| 1526982800506000000| Pr100681|   null|   click|       Chrome| Windows|       null|               India|\n",
       "| WI10000018251|2018-05-16 16:07:...| Pr100086|   null|   click|       Chrome| Windows|     Dallas|       United States|\n",
       "|  WI1000008108|2018-05-08 02:35:...| Pr100157|   null|   CLICK|       Chrome| Windows|       null|   Republic of Korea|\n",
       "+--------------+--------------------+---------+-------+--------+-------------+--------+-----------+--------------------+\n",
       "only showing top 20 rows"
      ]
     },
     "execution_count": 53,
     "metadata": {},
     "output_type": "execute_result"
    }
   ],
   "source": [
    "visitor_logs = spark.read.csv(os.path.join(DATA_DIR, \"VisitorLogsData.csv\"), header=True, inferSchema=True)\n",
    "users = spark.read.csv(os.path.join(DATA_DIR, \"userTable.csv\"), header=True, inferSchema=True)\n",
    "\n",
    "visitor_logs"
   ]
  },
  {
   "cell_type": "code",
   "execution_count": 54,
   "metadata": {},
   "outputs": [
    {
     "data": {
      "text/html": [
       "<table border='1'>\n",
       "<tr><th>UserID</th><th>Signup Date</th><th>User Segment</th></tr>\n",
       "<tr><td>U133159</td><td>2018-04-14 07:01:...</td><td>C</td></tr>\n",
       "<tr><td>U129368</td><td>2017-12-02 09:38:...</td><td>B</td></tr>\n",
       "<tr><td>U109654</td><td>2013-03-19 11:38:...</td><td>B</td></tr>\n",
       "<tr><td>U108998</td><td>2018-01-18 08:29:...</td><td>C</td></tr>\n",
       "<tr><td>U131393</td><td>2018-03-27 08:05:...</td><td>B</td></tr>\n",
       "<tr><td>U101889</td><td>2018-01-24 12:50:...</td><td>B</td></tr>\n",
       "<tr><td>U113233</td><td>2017-03-18 09:27:...</td><td>B</td></tr>\n",
       "<tr><td>U115728</td><td>2017-08-18 11:40:...</td><td>B</td></tr>\n",
       "<tr><td>U132899</td><td>2018-03-14 08:32:...</td><td>B</td></tr>\n",
       "<tr><td>U107492</td><td>2018-04-10 20:42:...</td><td>B</td></tr>\n",
       "<tr><td>U124573</td><td>2014-09-25 07:24:...</td><td>B</td></tr>\n",
       "<tr><td>U121993</td><td>2018-03-30 05:49:...</td><td>B</td></tr>\n",
       "<tr><td>U125731</td><td>2017-12-22 16:57:...</td><td>B</td></tr>\n",
       "<tr><td>U102932</td><td>2018-02-10 20:30:...</td><td>C</td></tr>\n",
       "<tr><td>U114104</td><td>2018-04-01 03:31:...</td><td>C</td></tr>\n",
       "<tr><td>U115212</td><td>2016-03-10 04:56:...</td><td>B</td></tr>\n",
       "<tr><td>U127832</td><td>2018-03-22 15:30:...</td><td>B</td></tr>\n",
       "<tr><td>U129967</td><td>2018-02-17 04:20:...</td><td>B</td></tr>\n",
       "<tr><td>U102610</td><td>2017-06-05 05:14:...</td><td>A</td></tr>\n",
       "<tr><td>U112354</td><td>2017-09-02 12:47:...</td><td>A</td></tr>\n",
       "</table>\n",
       "only showing top 20 rows\n"
      ],
      "text/plain": [
       "+-------+--------------------+------------+\n",
       "| UserID|         Signup Date|User Segment|\n",
       "+-------+--------------------+------------+\n",
       "|U133159|2018-04-14 07:01:...|           C|\n",
       "|U129368|2017-12-02 09:38:...|           B|\n",
       "|U109654|2013-03-19 11:38:...|           B|\n",
       "|U108998|2018-01-18 08:29:...|           C|\n",
       "|U131393|2018-03-27 08:05:...|           B|\n",
       "|U101889|2018-01-24 12:50:...|           B|\n",
       "|U113233|2017-03-18 09:27:...|           B|\n",
       "|U115728|2017-08-18 11:40:...|           B|\n",
       "|U132899|2018-03-14 08:32:...|           B|\n",
       "|U107492|2018-04-10 20:42:...|           B|\n",
       "|U124573|2014-09-25 07:24:...|           B|\n",
       "|U121993|2018-03-30 05:49:...|           B|\n",
       "|U125731|2017-12-22 16:57:...|           B|\n",
       "|U102932|2018-02-10 20:30:...|           C|\n",
       "|U114104|2018-04-01 03:31:...|           C|\n",
       "|U115212|2016-03-10 04:56:...|           B|\n",
       "|U127832|2018-03-22 15:30:...|           B|\n",
       "|U129967|2018-02-17 04:20:...|           B|\n",
       "|U102610|2017-06-05 05:14:...|           A|\n",
       "|U112354|2017-09-02 12:47:...|           A|\n",
       "+-------+--------------------+------------+\n",
       "only showing top 20 rows"
      ]
     },
     "execution_count": 54,
     "metadata": {},
     "output_type": "execute_result"
    }
   ],
   "source": [
    "users"
   ]
  },
  {
   "cell_type": "markdown",
   "metadata": {},
   "source": [
    "## EDA"
   ]
  },
  {
   "cell_type": "markdown",
   "metadata": {},
   "source": [
    "### Filter out the visitor log data which doesn't contain `UserID` and `VisitDateTime`"
   ]
  },
  {
   "cell_type": "code",
   "execution_count": 55,
   "metadata": {},
   "outputs": [],
   "source": [
    "visitor_logs = visitor_logs.filter(col(\"UserID\").isNotNull())\n",
    "visitor_logs = visitor_logs.filter(col(\"VisitDateTime\").isNotNull())"
   ]
  },
  {
   "cell_type": "markdown",
   "metadata": {},
   "source": [
    "### replace empty string to null for consistency across the data set"
   ]
  },
  {
   "cell_type": "code",
   "execution_count": 56,
   "metadata": {},
   "outputs": [],
   "source": [
    "# Remove the \n",
    "visitor_logs = visitor_logs.select([when(trim(col(c))==\"\",None).otherwise(col(c)).alias(c) for c in visitor_logs.columns])\n",
    "users = users.select([when(trim(col(c))==\"\",None).otherwise(col(c)).alias(c) for c in users.columns])"
   ]
  },
  {
   "cell_type": "markdown",
   "metadata": {},
   "source": [
    "### Convert VisitDateTime into Date format"
   ]
  },
  {
   "cell_type": "code",
   "execution_count": 57,
   "metadata": {},
   "outputs": [],
   "source": [
    "visitor_logs = visitor_logs.withColumn(\"VisitDateTime\", when(col(\"VisitDateTime\").contains(\"-\"), to_date(col(\"VisitDateTime\"))).\\\n",
    "    otherwise(to_timestamp(col('VisitDateTime')/1000000000).cast('date')))"
   ]
  },
  {
   "cell_type": "markdown",
   "metadata": {},
   "source": [
    "### Filter Visitor data for 21 days"
   ]
  },
  {
   "cell_type": "markdown",
   "metadata": {},
   "source": [
    "visitor_logs = visitor_logs.withColumn(\"end_date\", date_add(to_date(lit(ref_date), format=\"dd-MMM-yyyy\"), -1))\n",
    "visitor_logs = visitor_logs.withColumn(\"start_date\", date_add(to_date(lit(ref_date), format=\"dd-MMM-yyyy\"), -21))\n",
    "\n",
    "visitor_logs = visitor_logs.filter((col(\"VisitDateTime\") >=col(\"start_date\")) & (col(\"VisitDateTime\") <= col(\"end_date\")))\n",
    "visitor_logs = visitor_logs.drop(\"end_date\", \"start_date\")"
   ]
  },
  {
   "cell_type": "markdown",
   "metadata": {},
   "source": [
    "### Normalize data in columns by converting the data to lowercase"
   ]
  },
  {
   "cell_type": "code",
   "execution_count": 58,
   "metadata": {},
   "outputs": [],
   "source": [
    "cols_to_lower = [\"ProductID\",\"Activity\", \"Browser\", \"OS\", \"City\", \"Country\"]\n",
    "\n",
    "for c in cols_to_lower:\n",
    "    visitor_logs = visitor_logs.withColumn(c, lower(col(c)))"
   ]
  },
  {
   "cell_type": "code",
   "execution_count": 59,
   "metadata": {},
   "outputs": [
    {
     "name": "stdout",
     "output_type": "stream",
     "text": [
      "Unique of the column: Activity\n",
      "+--------+\n",
      "|Activity|\n",
      "+--------+\n",
      "|    null|\n",
      "|   click|\n",
      "|pageload|\n",
      "+--------+\n",
      "\n",
      "Unique of the column: Browser\n",
      "+--------------------+\n",
      "|             Browser|\n",
      "+--------------------+\n",
      "|            chromium|\n",
      "|       mobile safari|\n",
      "|             firefox|\n",
      "|      firefox mobile|\n",
      "|       chrome mobile|\n",
      "|          apple mail|\n",
      "|              chrome|\n",
      "|          qq browser|\n",
      "|      yandex browser|\n",
      "|                edge|\n",
      "|          uc browser|\n",
      "|             maxthon|\n",
      "|        opera mobile|\n",
      "|         amazon silk|\n",
      "|mobile safari ui/...|\n",
      "|             coc coc|\n",
      "|    samsung internet|\n",
      "|   chrome mobile ios|\n",
      "|         firefox ios|\n",
      "|chrome mobile web...|\n",
      "+--------------------+\n",
      "only showing top 20 rows\n",
      "\n",
      "Unique of the column: OS\n",
      "+---------+\n",
      "|       OS|\n",
      "+---------+\n",
      "|  android|\n",
      "|   ubuntu|\n",
      "|   fedora|\n",
      "|    linux|\n",
      "|chrome os|\n",
      "|      ios|\n",
      "|    tizen|\n",
      "| mac os x|\n",
      "|  windows|\n",
      "+---------+\n",
      "\n",
      "Unique of the column: City\n",
      "+-------------+\n",
      "|         City|\n",
      "+-------------+\n",
      "| nieuw-vennep|\n",
      "|        sagar|\n",
      "|    kathmandu|\n",
      "|     yokohama|\n",
      "|       dammam|\n",
      "|       kaunas|\n",
      "|  sanski most|\n",
      "|         rize|\n",
      "|      phaltan|\n",
      "|   cuernavaca|\n",
      "|       suzhou|\n",
      "|    kitchener|\n",
      "|       djelfa|\n",
      "|      morinda|\n",
      "|mercer island|\n",
      "|     cheyenne|\n",
      "|       lugano|\n",
      "|   chilliwack|\n",
      "|        anoka|\n",
      "|mechanicsburg|\n",
      "+-------------+\n",
      "only showing top 20 rows\n",
      "\n",
      "Unique of the column: Country\n",
      "+--------------------+\n",
      "|             Country|\n",
      "+--------------------+\n",
      "|   hong kong kowloon|\n",
      "|united states mou...|\n",
      "|        india godhra|\n",
      "|united states lyn...|\n",
      "|       india tarnaka|\n",
      "|       canada ottawa|\n",
      "|       india chirala|\n",
      "| kuwait as salimiyah|\n",
      "|united states dee...|\n",
      "|  australia boondall|\n",
      "|       spain quiroga|\n",
      "|     india jharsugra|\n",
      "| thailand nonthaburi|\n",
      "|netherlands 's-he...|\n",
      "|       morocco rabat|\n",
      "|     india panchkula|\n",
      "|germany kaisersla...|\n",
      "|  australia nedlands|\n",
      "|             finland|\n",
      "|united states cha...|\n",
      "+--------------------+\n",
      "only showing top 20 rows\n",
      "\n"
     ]
    }
   ],
   "source": [
    "for c in [\"Activity\", \"Browser\", \"OS\", \"City\", \"Country\"]:\n",
    "    print(f\"Unique of the column: {c}\")\n",
    "    visitor_logs.select(c).distinct().show()"
   ]
  },
  {
   "cell_type": "markdown",
   "metadata": {},
   "source": [
    "## Feature Generation"
   ]
  },
  {
   "cell_type": "code",
   "execution_count": 60,
   "metadata": {},
   "outputs": [
    {
     "data": {
      "text/html": [
       "<table border='1'>\n",
       "<tr><th>UserID</th><th>No_of_days_Visited_7_Days</th><th>No_Of_Products_Viewed_15_Days</th><th>User_Vintage</th><th>Most_Viewed_product_15_Days</th><th>Most_Active_OS</th><th>Recently_Viewed_Product</th><th>Clicks_last_7_days</th><th>Pageloads_last_7_days</th></tr>\n",
       "<tr><td>U100002</td><td>0</td><td>2</td><td>53</td><td>pr100258</td><td>android</td><td>pr100258</td><td>0</td><td>0</td></tr>\n",
       "<tr><td>U100003</td><td>1</td><td>2</td><td>1021</td><td>pr100079</td><td>windows</td><td>pr100079</td><td>2</td><td>1</td></tr>\n",
       "<tr><td>U100004</td><td>1</td><td>15</td><td>341</td><td>pr100355</td><td>windows</td><td>pr100753</td><td>0</td><td>1</td></tr>\n",
       "<tr><td>U100005</td><td>1</td><td>3</td><td>681</td><td>pr100234</td><td>android</td><td>pr100234</td><td>0</td><td>1</td></tr>\n",
       "<tr><td>U100006</td><td>1</td><td>1</td><td>55</td><td>pr101111</td><td>android</td><td>pr101111</td><td>0</td><td>1</td></tr>\n",
       "<tr><td>U100007</td><td>0</td><td>0</td><td>460</td><td>Product101</td><td>windows</td><td>pr100113</td><td>0</td><td>0</td></tr>\n",
       "<tr><td>U100008</td><td>6</td><td>17</td><td>395</td><td>pr100855</td><td>android</td><td>pr100962</td><td>23</td><td>21</td></tr>\n",
       "<tr><td>U100009</td><td>4</td><td>10</td><td>78</td><td>pr101070</td><td>android</td><td>pr100640</td><td>4</td><td>4</td></tr>\n",
       "<tr><td>U100012</td><td>2</td><td>5</td><td>124</td><td>pr100055</td><td>mac os x</td><td>pr100055</td><td>14</td><td>5</td></tr>\n",
       "<tr><td>U100013</td><td>3</td><td>3</td><td>1687</td><td>pr100177</td><td>mac os x</td><td>pr100134</td><td>3</td><td>5</td></tr>\n",
       "<tr><td>U100014</td><td>2</td><td>4</td><td>155</td><td>pr100578</td><td>windows</td><td>pr100126</td><td>2</td><td>1</td></tr>\n",
       "<tr><td>U100015</td><td>1</td><td>4</td><td>659</td><td>pr100390</td><td>android</td><td>pr100095</td><td>8</td><td>3</td></tr>\n",
       "<tr><td>U100016</td><td>1</td><td>1</td><td>114</td><td>pr100172</td><td>android</td><td>pr100172</td><td>0</td><td>1</td></tr>\n",
       "<tr><td>U100017</td><td>1</td><td>1</td><td>45</td><td>pr100119</td><td>windows</td><td>Product101</td><td>0</td><td>0</td></tr>\n",
       "<tr><td>U100018</td><td>5</td><td>3</td><td>44</td><td>pr100403</td><td>windows</td><td>pr100403</td><td>21</td><td>7</td></tr>\n",
       "<tr><td>U100019</td><td>3</td><td>7</td><td>317</td><td>pr100017</td><td>windows</td><td>pr100040</td><td>15</td><td>5</td></tr>\n",
       "<tr><td>U100020</td><td>0</td><td>2</td><td>163</td><td>pr100558</td><td>mac os x</td><td>pr100017</td><td>0</td><td>0</td></tr>\n",
       "<tr><td>U100023</td><td>5</td><td>3</td><td>437</td><td>pr100181</td><td>windows</td><td>pr100181</td><td>0</td><td>6</td></tr>\n",
       "<tr><td>U100024</td><td>1</td><td>1</td><td>85</td><td>pr100025</td><td>android</td><td>pr100025</td><td>1</td><td>2</td></tr>\n",
       "<tr><td>U100025</td><td>0</td><td>0</td><td>129</td><td>Product101</td><td>windows</td><td>pr100240</td><td>0</td><td>0</td></tr>\n",
       "</table>\n",
       "only showing top 20 rows\n"
      ],
      "text/plain": [
       "+-------+-------------------------+-----------------------------+------------+---------------------------+--------------+-----------------------+------------------+---------------------+\n",
       "| UserID|No_of_days_Visited_7_Days|No_Of_Products_Viewed_15_Days|User_Vintage|Most_Viewed_product_15_Days|Most_Active_OS|Recently_Viewed_Product|Clicks_last_7_days|Pageloads_last_7_days|\n",
       "+-------+-------------------------+-----------------------------+------------+---------------------------+--------------+-----------------------+------------------+---------------------+\n",
       "|U100002|                        0|                            2|          53|                   pr100258|       android|               pr100258|                 0|                    0|\n",
       "|U100003|                        1|                            2|        1021|                   pr100079|       windows|               pr100079|                 2|                    1|\n",
       "|U100004|                        1|                           15|         341|                   pr100355|       windows|               pr100753|                 0|                    1|\n",
       "|U100005|                        1|                            3|         681|                   pr100234|       android|               pr100234|                 0|                    1|\n",
       "|U100006|                        1|                            1|          55|                   pr101111|       android|               pr101111|                 0|                    1|\n",
       "|U100007|                        0|                            0|         460|                 Product101|       windows|               pr100113|                 0|                    0|\n",
       "|U100008|                        6|                           17|         395|                   pr100855|       android|               pr100962|                23|                   21|\n",
       "|U100009|                        4|                           10|          78|                   pr101070|       android|               pr100640|                 4|                    4|\n",
       "|U100012|                        2|                            5|         124|                   pr100055|      mac os x|               pr100055|                14|                    5|\n",
       "|U100013|                        3|                            3|        1687|                   pr100177|      mac os x|               pr100134|                 3|                    5|\n",
       "|U100014|                        2|                            4|         155|                   pr100578|       windows|               pr100126|                 2|                    1|\n",
       "|U100015|                        1|                            4|         659|                   pr100390|       android|               pr100095|                 8|                    3|\n",
       "|U100016|                        1|                            1|         114|                   pr100172|       android|               pr100172|                 0|                    1|\n",
       "|U100017|                        1|                            1|          45|                   pr100119|       windows|             Product101|                 0|                    0|\n",
       "|U100018|                        5|                            3|          44|                   pr100403|       windows|               pr100403|                21|                    7|\n",
       "|U100019|                        3|                            7|         317|                   pr100017|       windows|               pr100040|                15|                    5|\n",
       "|U100020|                        0|                            2|         163|                   pr100558|      mac os x|               pr100017|                 0|                    0|\n",
       "|U100023|                        5|                            3|         437|                   pr100181|       windows|               pr100181|                 0|                    6|\n",
       "|U100024|                        1|                            1|          85|                   pr100025|       android|               pr100025|                 1|                    2|\n",
       "|U100025|                        0|                            0|         129|                 Product101|       windows|               pr100240|                 0|                    0|\n",
       "+-------+-------------------------+-----------------------------+------------+---------------------------+--------------+-----------------------+------------------+---------------------+\n",
       "only showing top 20 rows"
      ]
     },
     "execution_count": 60,
     "metadata": {},
     "output_type": "execute_result"
    }
   ],
   "source": [
    "feature_table = feature_generation(users,visitor_logs)\n",
    "\n",
    "feature_table"
   ]
  },
  {
   "cell_type": "code",
   "execution_count": 61,
   "metadata": {},
   "outputs": [],
   "source": [
    "feature_table.repartition(1).write.option(\"header\",True).csv(os.path.join(PROJECT_DIR, \"Results\", \"final_submission_updated2.csv\"))"
   ]
  },
  {
   "cell_type": "code",
   "execution_count": null,
   "metadata": {},
   "outputs": [],
   "source": [
    "feature_table.toPandas().to_csv(os.path.join(PROJECT_DIR, \"Results\", \"final_submission_pd_updated2.csv\"), index=False)"
   ]
  }
 ],
 "metadata": {
  "interpreter": {
   "hash": "1ade907cebe3c2ff8001285e46f5cae2c4a10083ac18452c63874e484493fc09"
  },
  "kernelspec": {
   "display_name": "Python 3.7.10 64-bit ('pyspark_env': conda)",
   "name": "python3"
  },
  "language_info": {
   "codemirror_mode": {
    "name": "ipython",
    "version": 3
   },
   "file_extension": ".py",
   "mimetype": "text/x-python",
   "name": "python",
   "nbconvert_exporter": "python",
   "pygments_lexer": "ipython3",
   "version": "3.7.10"
  },
  "orig_nbformat": 4
 },
 "nbformat": 4,
 "nbformat_minor": 2
}