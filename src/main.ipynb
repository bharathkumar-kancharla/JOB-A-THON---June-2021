{
 "cells": [
  {
   "cell_type": "markdown",
   "metadata": {},
   "source": [
    "## Load Libraries"
   ]
  },
  {
   "cell_type": "code",
   "execution_count": 63,
   "metadata": {},
   "outputs": [],
   "source": [
    "import os\n",
    "import pandas as pd\n",
    "\n",
    "from pyspark.sql import SparkSession\n",
    "from pyspark.sql.functions import *\n",
    "from pyspark.sql.window import Window"
   ]
  },
  {
   "cell_type": "markdown",
   "metadata": {},
   "source": [
    "### Intitiate Spark Session"
   ]
  },
  {
   "cell_type": "code",
   "execution_count": 64,
   "metadata": {},
   "outputs": [
    {
     "data": {
      "text/html": [
       "<table border='1'>\n",
       "<tr><th>key</th><th>value</th></tr>\n",
       "<tr><td>spark.sql.legacy....</td><td>LEGACY</td></tr>\n",
       "</table>\n"
      ],
      "text/plain": [
       "+--------------------+------+\n",
       "|                 key| value|\n",
       "+--------------------+------+\n",
       "|spark.sql.legacy....|LEGACY|\n",
       "+--------------------+------+"
      ]
     },
     "execution_count": 64,
     "metadata": {},
     "output_type": "execute_result"
    }
   ],
   "source": [
    "spark = SparkSession.builder.appName(\"June 2021\").getOrCreate()\n",
    "\n",
    "spark.conf.set('spark.sql.repl.eagerEval.enabled', True)\n",
    "spark.conf.set(\"spark.sql.session.timeZone\", \"IST\")\n",
    "spark.sql(\"set spark.sql.legacy.timeParserPolicy=LEGACY\")"
   ]
  },
  {
   "cell_type": "markdown",
   "metadata": {},
   "source": [
    "## Define Directories"
   ]
  },
  {
   "cell_type": "code",
   "execution_count": 65,
   "metadata": {},
   "outputs": [],
   "source": [
    "PROJECT_DIR = \"/media/bharathkancharla/techspace/Data Science World/Challenges/Analytical Vidhya/JOB-A-THON - June 2021\"\n",
    "DATA_DIR = os.path.join(PROJECT_DIR, \"data\")"
   ]
  },
  {
   "cell_type": "code",
   "execution_count": 66,
   "metadata": {},
   "outputs": [],
   "source": [
    "ref_date = \"28-May-2018\""
   ]
  },
  {
   "cell_type": "code",
   "execution_count": 67,
   "metadata": {},
   "outputs": [],
   "source": [
    "from datetime import timedelta\n",
    "def date_shift(ref, noofdayshift, as_string=False):\n",
    "    shift_date = pd.to_datetime(ref) + timedelta(days=noofdayshift)\n",
    "    if as_string:\n",
    "        return str(shift_date)\n",
    "    else:\n",
    "        return shift_date"
   ]
  },
  {
   "cell_type": "markdown",
   "metadata": {},
   "source": [
    "## Load the data"
   ]
  },
  {
   "cell_type": "code",
   "execution_count": 68,
   "metadata": {},
   "outputs": [
    {
     "data": {
      "text/html": [
       "<table border='1'>\n",
       "<tr><th>webClientID</th><th>VisitDateTime</th><th>ProductID</th><th>UserID</th><th>Activity</th><th>Browser</th><th>OS</th><th>City</th><th>Country</th></tr>\n",
       "<tr><td>WI10000050298</td><td>2018-05-07 04:28:...</td><td>pr100631</td><td>null</td><td>null</td><td>Chrome Mobile</td><td>Android</td><td>Chennai</td><td>India</td></tr>\n",
       "<tr><td>WI10000025922</td><td>2018-05-13 07:26:...</td><td>pr100707</td><td>null</td><td>null</td><td>Chrome</td><td>Windows</td><td>null</td><td>Taiwan</td></tr>\n",
       "<tr><td>WI100000204522</td><td>2018-05-11 11:43:...</td><td>pr100030</td><td>null</td><td>click</td><td>Chrome</td><td>windows</td><td>Gurgaon</td><td>India</td></tr>\n",
       "<tr><td>WI10000011974</td><td>2018-05-13 15:20:...</td><td>Pr100192</td><td>null</td><td>CLICK</td><td>Chrome</td><td>Windows</td><td> </td><td> </td></tr>\n",
       "<tr><td>WI100000441953</td><td>2018-05-08 20:44:...</td><td>Pr100762</td><td>null</td><td>click</td><td>Chrome</td><td>mac os x</td><td>Iselin</td><td>United States</td></tr>\n",
       "<tr><td>WI10000042224</td><td>2018-05-24 13:10:...</td><td>pr100109</td><td>null</td><td>click</td><td>Chrome</td><td>Mac OS X</td><td>null</td><td>Taiwan</td></tr>\n",
       "<tr><td>WI100000532584</td><td>2018-05-23 14:52:...</td><td>pr100020</td><td>null</td><td>click</td><td>Opera</td><td>Windows</td><td>Baku</td><td>Azerbaijan</td></tr>\n",
       "<tr><td>WI100000377250</td><td>2018-05-13 03:13:...</td><td>Pr101495</td><td>null</td><td>CLICK</td><td>Chrome</td><td>Windows</td><td>Bayan Lepas</td><td>Malaysia</td></tr>\n",
       "<tr><td>WI10000031378</td><td>2018-05-10 02:04:...</td><td>Pr100013</td><td>null</td><td>click</td><td>Chrome</td><td>Windows</td><td>Chakwal</td><td>Pakistan</td></tr>\n",
       "<tr><td>WI100000278874</td><td>2018-05-25 13:40:...</td><td>Pr101701</td><td>null</td><td>PAGELOAD</td><td>Chrome</td><td>Windows</td><td> </td><td> </td></tr>\n",
       "<tr><td>WI100000971872</td><td>2018-05-27 05:35:...</td><td>Pr100025</td><td>null</td><td>null</td><td>Chrome Mobile</td><td>Android</td><td>null</td><td>India</td></tr>\n",
       "<tr><td>WI100000746503</td><td>2018-05-16 11:56:...</td><td>Pr100896</td><td>null</td><td>pageload</td><td>Chrome</td><td>windows</td><td>Lugo</td><td>Italy</td></tr>\n",
       "<tr><td>WI100000535505</td><td>2018-05-23 18:40:...</td><td>Pr100086</td><td>null</td><td>click</td><td>Chrome</td><td>Windows</td><td>null</td><td>Norway</td></tr>\n",
       "<tr><td>WI10000021996</td><td>1527051855673000000</td><td>Pr100526</td><td>null</td><td>null</td><td>Chrome</td><td>Mac OS X</td><td>Escondido</td><td>United States Esc...</td></tr>\n",
       "<tr><td>WI100000112772</td><td>1526366895249000000</td><td>Pr100017</td><td>U106593</td><td>click</td><td>Chrome Mobile</td><td>Android</td><td> </td><td>   </td></tr>\n",
       "<tr><td>WI100000192090</td><td>2018-05-08 16:53:...</td><td>pr100157</td><td>null</td><td>click</td><td>Chrome</td><td>Windows</td><td>Saltash</td><td>United Kingdom</td></tr>\n",
       "<tr><td>WI100000634672</td><td>2018-05-27 07:16:...</td><td>pr100469</td><td>null</td><td>pageload</td><td>Chrome Mobile</td><td>Android</td><td>Mumbai</td><td>India</td></tr>\n",
       "<tr><td>WI100000199021</td><td>1526982800506000000</td><td>Pr100681</td><td>null</td><td>click</td><td>Chrome</td><td>Windows</td><td>null</td><td>India</td></tr>\n",
       "<tr><td>WI10000018251</td><td>2018-05-16 16:07:...</td><td>Pr100086</td><td>null</td><td>click</td><td>Chrome</td><td>Windows</td><td>Dallas</td><td>United States</td></tr>\n",
       "<tr><td>WI1000008108</td><td>2018-05-08 02:35:...</td><td>Pr100157</td><td>null</td><td>CLICK</td><td>Chrome</td><td>Windows</td><td>null</td><td>Republic of Korea</td></tr>\n",
       "</table>\n",
       "only showing top 20 rows\n"
      ],
      "text/plain": [
       "+--------------+--------------------+---------+-------+--------+-------------+--------+-----------+--------------------+\n",
       "|   webClientID|       VisitDateTime|ProductID| UserID|Activity|      Browser|      OS|       City|             Country|\n",
       "+--------------+--------------------+---------+-------+--------+-------------+--------+-----------+--------------------+\n",
       "| WI10000050298|2018-05-07 04:28:...| pr100631|   null|    null|Chrome Mobile| Android|    Chennai|               India|\n",
       "| WI10000025922|2018-05-13 07:26:...| pr100707|   null|    null|       Chrome| Windows|       null|              Taiwan|\n",
       "|WI100000204522|2018-05-11 11:43:...| pr100030|   null|   click|       Chrome| windows|    Gurgaon|               India|\n",
       "| WI10000011974|2018-05-13 15:20:...| Pr100192|   null|   CLICK|       Chrome| Windows|           |                    |\n",
       "|WI100000441953|2018-05-08 20:44:...| Pr100762|   null|   click|       Chrome|mac os x|     Iselin|       United States|\n",
       "| WI10000042224|2018-05-24 13:10:...| pr100109|   null|   click|       Chrome|Mac OS X|       null|              Taiwan|\n",
       "|WI100000532584|2018-05-23 14:52:...| pr100020|   null|   click|        Opera| Windows|       Baku|          Azerbaijan|\n",
       "|WI100000377250|2018-05-13 03:13:...| Pr101495|   null|   CLICK|       Chrome| Windows|Bayan Lepas|            Malaysia|\n",
       "| WI10000031378|2018-05-10 02:04:...| Pr100013|   null|   click|       Chrome| Windows|    Chakwal|            Pakistan|\n",
       "|WI100000278874|2018-05-25 13:40:...| Pr101701|   null|PAGELOAD|       Chrome| Windows|           |                    |\n",
       "|WI100000971872|2018-05-27 05:35:...| Pr100025|   null|    null|Chrome Mobile| Android|       null|               India|\n",
       "|WI100000746503|2018-05-16 11:56:...| Pr100896|   null|pageload|       Chrome| windows|       Lugo|               Italy|\n",
       "|WI100000535505|2018-05-23 18:40:...| Pr100086|   null|   click|       Chrome| Windows|       null|              Norway|\n",
       "| WI10000021996| 1527051855673000000| Pr100526|   null|    null|       Chrome|Mac OS X|  Escondido|United States Esc...|\n",
       "|WI100000112772| 1526366895249000000| Pr100017|U106593|   click|Chrome Mobile| Android|           |                    |\n",
       "|WI100000192090|2018-05-08 16:53:...| pr100157|   null|   click|       Chrome| Windows|    Saltash|      United Kingdom|\n",
       "|WI100000634672|2018-05-27 07:16:...| pr100469|   null|pageload|Chrome Mobile| Android|     Mumbai|               India|\n",
       "|WI100000199021| 1526982800506000000| Pr100681|   null|   click|       Chrome| Windows|       null|               India|\n",
       "| WI10000018251|2018-05-16 16:07:...| Pr100086|   null|   click|       Chrome| Windows|     Dallas|       United States|\n",
       "|  WI1000008108|2018-05-08 02:35:...| Pr100157|   null|   CLICK|       Chrome| Windows|       null|   Republic of Korea|\n",
       "+--------------+--------------------+---------+-------+--------+-------------+--------+-----------+--------------------+\n",
       "only showing top 20 rows"
      ]
     },
     "execution_count": 68,
     "metadata": {},
     "output_type": "execute_result"
    }
   ],
   "source": [
    "visitor_logs = spark.read.csv(os.path.join(DATA_DIR, \"VisitorLogsData.csv\"), header=True, inferSchema=True)\n",
    "users = spark.read.csv(os.path.join(DATA_DIR, \"userTable.csv\"), header=True, inferSchema=True)\n",
    "\n",
    "visitor_logs"
   ]
  },
  {
   "cell_type": "code",
   "execution_count": 69,
   "metadata": {},
   "outputs": [
    {
     "data": {
      "text/html": [
       "<table border='1'>\n",
       "<tr><th>UserID</th><th>Signup Date</th><th>User Segment</th></tr>\n",
       "<tr><td>U133159</td><td>2018-04-14 07:01:...</td><td>C</td></tr>\n",
       "<tr><td>U129368</td><td>2017-12-02 09:38:...</td><td>B</td></tr>\n",
       "<tr><td>U109654</td><td>2013-03-19 11:38:...</td><td>B</td></tr>\n",
       "<tr><td>U108998</td><td>2018-01-18 08:29:...</td><td>C</td></tr>\n",
       "<tr><td>U131393</td><td>2018-03-27 08:05:...</td><td>B</td></tr>\n",
       "<tr><td>U101889</td><td>2018-01-24 12:50:...</td><td>B</td></tr>\n",
       "<tr><td>U113233</td><td>2017-03-18 09:27:...</td><td>B</td></tr>\n",
       "<tr><td>U115728</td><td>2017-08-18 11:40:...</td><td>B</td></tr>\n",
       "<tr><td>U132899</td><td>2018-03-14 08:32:...</td><td>B</td></tr>\n",
       "<tr><td>U107492</td><td>2018-04-10 20:42:...</td><td>B</td></tr>\n",
       "<tr><td>U124573</td><td>2014-09-25 07:24:...</td><td>B</td></tr>\n",
       "<tr><td>U121993</td><td>2018-03-30 05:49:...</td><td>B</td></tr>\n",
       "<tr><td>U125731</td><td>2017-12-22 16:57:...</td><td>B</td></tr>\n",
       "<tr><td>U102932</td><td>2018-02-10 20:30:...</td><td>C</td></tr>\n",
       "<tr><td>U114104</td><td>2018-04-01 03:31:...</td><td>C</td></tr>\n",
       "<tr><td>U115212</td><td>2016-03-10 04:56:...</td><td>B</td></tr>\n",
       "<tr><td>U127832</td><td>2018-03-22 15:30:...</td><td>B</td></tr>\n",
       "<tr><td>U129967</td><td>2018-02-17 04:20:...</td><td>B</td></tr>\n",
       "<tr><td>U102610</td><td>2017-06-05 05:14:...</td><td>A</td></tr>\n",
       "<tr><td>U112354</td><td>2017-09-02 12:47:...</td><td>A</td></tr>\n",
       "</table>\n",
       "only showing top 20 rows\n"
      ],
      "text/plain": [
       "+-------+--------------------+------------+\n",
       "| UserID|         Signup Date|User Segment|\n",
       "+-------+--------------------+------------+\n",
       "|U133159|2018-04-14 07:01:...|           C|\n",
       "|U129368|2017-12-02 09:38:...|           B|\n",
       "|U109654|2013-03-19 11:38:...|           B|\n",
       "|U108998|2018-01-18 08:29:...|           C|\n",
       "|U131393|2018-03-27 08:05:...|           B|\n",
       "|U101889|2018-01-24 12:50:...|           B|\n",
       "|U113233|2017-03-18 09:27:...|           B|\n",
       "|U115728|2017-08-18 11:40:...|           B|\n",
       "|U132899|2018-03-14 08:32:...|           B|\n",
       "|U107492|2018-04-10 20:42:...|           B|\n",
       "|U124573|2014-09-25 07:24:...|           B|\n",
       "|U121993|2018-03-30 05:49:...|           B|\n",
       "|U125731|2017-12-22 16:57:...|           B|\n",
       "|U102932|2018-02-10 20:30:...|           C|\n",
       "|U114104|2018-04-01 03:31:...|           C|\n",
       "|U115212|2016-03-10 04:56:...|           B|\n",
       "|U127832|2018-03-22 15:30:...|           B|\n",
       "|U129967|2018-02-17 04:20:...|           B|\n",
       "|U102610|2017-06-05 05:14:...|           A|\n",
       "|U112354|2017-09-02 12:47:...|           A|\n",
       "+-------+--------------------+------------+\n",
       "only showing top 20 rows"
      ]
     },
     "execution_count": 69,
     "metadata": {},
     "output_type": "execute_result"
    }
   ],
   "source": [
    "users"
   ]
  },
  {
   "cell_type": "markdown",
   "metadata": {},
   "source": [
    "## EDA"
   ]
  },
  {
   "cell_type": "markdown",
   "metadata": {},
   "source": [
    "- Filter out the visitor log data which doesn't contain `UserID`"
   ]
  },
  {
   "cell_type": "code",
   "execution_count": 70,
   "metadata": {},
   "outputs": [],
   "source": [
    "visitor_logs = visitor_logs.filter(col(\"UserID\").isNotNull())"
   ]
  },
  {
   "cell_type": "markdown",
   "metadata": {},
   "source": [
    "- replace empty string to null for consistency across the data set"
   ]
  },
  {
   "cell_type": "code",
   "execution_count": 71,
   "metadata": {},
   "outputs": [
    {
     "data": {
      "text/html": [
       "<table border='1'>\n",
       "<tr><th>webClientID</th><th>VisitDateTime</th><th>ProductID</th><th>UserID</th><th>Activity</th><th>Browser</th><th>OS</th><th>City</th><th>Country</th></tr>\n",
       "<tr><td>WI10000020634</td><td>2018-05-18 10:39:...</td><td>Pr101097</td><td>U100002</td><td>null</td><td>Chrome Mobile</td><td>Android</td><td>Salvador</td><td>Brazil</td></tr>\n",
       "<tr><td>WI10000020634</td><td>2018-05-18 10:39:...</td><td>pr100258</td><td>U100002</td><td>null</td><td>Chrome Mobile</td><td>Android</td><td>Salvador</td><td>Brazil</td></tr>\n",
       "<tr><td>WI10000020634</td><td>2018-05-18 10:35:...</td><td>Pr100258</td><td>U100002</td><td>pageload</td><td>Chrome Mobile</td><td>Android</td><td>Salvador</td><td>Brazil Salvador</td></tr>\n",
       "<tr><td>WI10000020634</td><td>2018-05-18 10:43:...</td><td>Pr100258</td><td>U100002</td><td>pageload</td><td>Chrome Mobile</td><td>Android</td><td>Salvador</td><td>Brazil</td></tr>\n",
       "<tr><td>WI10000020634</td><td>1526639986717000000</td><td>Pr100258</td><td>U100002</td><td>click</td><td>Chrome Mobile</td><td>Android</td><td>Salvador</td><td>Brazil</td></tr>\n",
       "<tr><td>WI100000392911</td><td>2018-05-25 02:16:...</td><td>pr100079</td><td>U100003</td><td>click</td><td>Chrome</td><td>Windows</td><td>Kolkata</td><td>India</td></tr>\n",
       "<tr><td>WI100000392911</td><td>2018-05-25 02:17:...</td><td>null</td><td>U100003</td><td>click</td><td>Chrome</td><td>Windows</td><td>Kolkata</td><td>India Kolkata</td></tr>\n",
       "<tr><td>WI100000392911</td><td>2018-05-25 02:15:...</td><td>Pr100079</td><td>U100003</td><td>pageload</td><td>Chrome</td><td>Windows</td><td>Kolkata</td><td>India</td></tr>\n",
       "<tr><td>WI100000979909</td><td>2018-05-13 14:14:...</td><td>Pr100178</td><td>U100003</td><td>null</td><td>Chrome</td><td>Windows</td><td>Kolkata</td><td>India</td></tr>\n",
       "<tr><td>WI10000097797</td><td>2018-05-16 17:55:...</td><td>pr100355</td><td>U100004</td><td>click</td><td>Chrome</td><td>windows</td><td>Urbana</td><td>United States</td></tr>\n",
       "<tr><td>WI10000097797</td><td>1526643287329000000</td><td>null</td><td>U100004</td><td>pageload</td><td>Chrome</td><td>Windows</td><td>Urbana</td><td>United States</td></tr>\n",
       "<tr><td>WI10000097797</td><td>2018-05-17 12:57:...</td><td>null</td><td>U100004</td><td>click</td><td>Chrome</td><td>Windows</td><td>Urbana</td><td>United States Urbana</td></tr>\n",
       "<tr><td>WI10000097797</td><td>2018-05-20 14:38:...</td><td>Pr100753</td><td>U100004</td><td>pageload</td><td>Chrome</td><td>Windows</td><td>Urbana</td><td>United States</td></tr>\n",
       "<tr><td>WI10000097797</td><td>2018-05-13 22:04:...</td><td>Pr101554</td><td>U100004</td><td>null</td><td>Chrome</td><td>Windows</td><td>Urbana</td><td>United States</td></tr>\n",
       "<tr><td>WI10000097797</td><td>2018-05-21 13:36:...</td><td>null</td><td>U100004</td><td>pageload</td><td>Chrome</td><td>Windows</td><td>Urbana</td><td>United States</td></tr>\n",
       "<tr><td>WI10000097797</td><td>2018-05-13 21:58:...</td><td>Pr100204</td><td>U100004</td><td>CLICK</td><td>Chrome</td><td>Windows</td><td>Urbana</td><td>United States</td></tr>\n",
       "<tr><td>WI10000097797</td><td>2018-05-13 21:58:...</td><td>Pr100204</td><td>U100004</td><td>click</td><td>Chrome</td><td>Windows</td><td>Urbana</td><td>United States</td></tr>\n",
       "<tr><td>WI10000097797</td><td>2018-05-17 12:42:...</td><td>null</td><td>U100004</td><td>null</td><td>Chrome</td><td>Windows</td><td>Urbana</td><td>United States</td></tr>\n",
       "<tr><td>WI10000097797</td><td>2018-05-17 12:43:...</td><td>Pr100005</td><td>U100004</td><td>click</td><td>Chrome</td><td>Windows</td><td>Urbana</td><td>United States Urbana</td></tr>\n",
       "<tr><td>WI10000097797</td><td>2018-05-16 18:25:...</td><td>pr100142</td><td>U100004</td><td>pageload</td><td>Chrome</td><td>Windows</td><td>Urbana</td><td>United States</td></tr>\n",
       "</table>\n",
       "only showing top 20 rows\n"
      ],
      "text/plain": [
       "+--------------+--------------------+---------+-------+--------+-------------+-------+--------+--------------------+\n",
       "|   webClientID|       VisitDateTime|ProductID| UserID|Activity|      Browser|     OS|    City|             Country|\n",
       "+--------------+--------------------+---------+-------+--------+-------------+-------+--------+--------------------+\n",
       "| WI10000020634|2018-05-18 10:43:...| Pr100258|U100002|pageload|Chrome Mobile|Android|Salvador|              Brazil|\n",
       "| WI10000020634|2018-05-18 10:39:...| Pr101097|U100002|    null|Chrome Mobile|Android|Salvador|              Brazil|\n",
       "| WI10000020634|2018-05-18 10:35:...| Pr100258|U100002|pageload|Chrome Mobile|Android|Salvador|     Brazil Salvador|\n",
       "| WI10000020634|2018-05-18 10:39:...| pr100258|U100002|    null|Chrome Mobile|Android|Salvador|              Brazil|\n",
       "| WI10000020634| 1526639986717000000| Pr100258|U100002|   click|Chrome Mobile|Android|Salvador|              Brazil|\n",
       "|WI100000392911|2018-05-25 02:16:...| pr100079|U100003|   click|       Chrome|Windows| Kolkata|               India|\n",
       "|WI100000979909|2018-05-13 14:14:...| Pr100178|U100003|    null|       Chrome|Windows| Kolkata|               India|\n",
       "|WI100000392911|2018-05-25 02:15:...| Pr100079|U100003|pageload|       Chrome|Windows| Kolkata|               India|\n",
       "|WI100000392911|2018-05-25 02:17:...|     null|U100003|   click|       Chrome|Windows| Kolkata|       India Kolkata|\n",
       "| WI10000097797|2018-05-16 17:55:...| Pr100355|U100004|    null|       Chrome|Windows|  Urbana|       United States|\n",
       "| WI10000097797|2018-05-13 22:03:...| Pr100694|U100004|pageload|       Chrome|Windows|  Urbana|       United States|\n",
       "| WI10000097797|2018-05-17 12:43:...| Pr100005|U100004|   click|       Chrome|Windows|  Urbana|United States Urbana|\n",
       "| WI10000097797|2018-05-20 14:38:...| Pr100753|U100004|pageload|       Chrome|Windows|  Urbana|       United States|\n",
       "| WI10000097797| 1526391717137000000| Pr100312|U100004|pageload|       Chrome|Windows|  Urbana|United States Urbana|\n",
       "| WI10000097797|2018-05-17 13:52:...| pr100197|U100004|pageload|       Chrome|Windows|  Urbana|       United States|\n",
       "| WI10000097797|2018-05-16 17:55:...| pr100355|U100004|   click|       Chrome|windows|  Urbana|       United States|\n",
       "| WI10000097797|2018-05-17 12:57:...|     null|U100004|   click|       Chrome|Windows|  Urbana|United States Urbana|\n",
       "| WI10000097797|2018-05-17 12:42:...|     null|U100004|    null|       Chrome|Windows|  Urbana|       United States|\n",
       "| WI10000097797|                null| Pr100753|U100004|pageload|       Chrome|Windows|  Urbana|United States Urbana|\n",
       "| WI10000097797|2018-05-16 17:55:...| Pr100355|U100004|   click|       Chrome|Windows|  Urbana|       United States|\n",
       "+--------------+--------------------+---------+-------+--------+-------------+-------+--------+--------------------+\n",
       "only showing top 20 rows"
      ]
     },
     "execution_count": 71,
     "metadata": {},
     "output_type": "execute_result"
    }
   ],
   "source": [
    "visitor_logs = visitor_logs.select([when(trim(col(c))==\"\",None).otherwise(col(c)).alias(c) for c in visitor_logs.columns])\n",
    "users = users.select([when(trim(col(c))==\"\",None).otherwise(col(c)).alias(c) for c in users.columns])\n",
    "visitor_logs.orderBy(\"UserID\")"
   ]
  },
  {
   "cell_type": "code",
   "execution_count": 72,
   "metadata": {},
   "outputs": [
    {
     "data": {
      "text/plain": [
       "datetime.datetime(2021, 7, 4, 17, 30, 54, 345726)"
      ]
     },
     "execution_count": 72,
     "metadata": {},
     "output_type": "execute_result"
    }
   ],
   "source": [
    "from datetime import datetime\n",
    "datetime.now()"
   ]
  },
  {
   "cell_type": "code",
   "execution_count": 73,
   "metadata": {},
   "outputs": [],
   "source": [
    "visitor_logs = visitor_logs.filter(col(\"VisitDateTime\").isNotNull())"
   ]
  },
  {
   "cell_type": "code",
   "execution_count": 74,
   "metadata": {},
   "outputs": [
    {
     "data": {
      "text/html": [
       "<table border='1'>\n",
       "<tr><th>webClientID</th><th>VisitDateTime</th><th>ProductID</th><th>UserID</th><th>Activity</th><th>Browser</th><th>OS</th><th>City</th><th>Country</th></tr>\n",
       "<tr><td>WI100000112772</td><td>2018-05-15</td><td>Pr100017</td><td>U106593</td><td>click</td><td>Chrome Mobile</td><td>Android</td><td>null</td><td>null</td></tr>\n",
       "<tr><td>WI1000009977</td><td>2018-05-23</td><td>Pr101008</td><td>U108297</td><td>null</td><td>Chrome Mobile</td><td>Android</td><td>Delhi</td><td>India</td></tr>\n",
       "<tr><td>WI100000223826</td><td>2018-05-10</td><td>Pr100241</td><td>U132443</td><td>null</td><td>Firefox</td><td>Windows</td><td>null</td><td>India</td></tr>\n",
       "<tr><td>WI10000021998</td><td>2018-05-08</td><td>pr100495</td><td>U134616</td><td>click</td><td>Chrome</td><td>Windows</td><td>Cottage Grove</td><td>United States</td></tr>\n",
       "<tr><td>WI10000036281</td><td>2018-05-11</td><td>Pr100363</td><td>U130784</td><td>click</td><td>Chrome</td><td>Chrome OS</td><td>New Delhi</td><td>India</td></tr>\n",
       "<tr><td>WI100000110130</td><td>2018-05-19</td><td>pr100340</td><td>U120983</td><td>click</td><td>Chrome</td><td>Windows</td><td>Mumbai</td><td>India</td></tr>\n",
       "<tr><td>WI10000014616</td><td>2018-05-19</td><td>Pr100166</td><td>U120287</td><td>click</td><td>Chrome</td><td>Windows</td><td>null</td><td>null</td></tr>\n",
       "<tr><td>WI100000102012</td><td>2018-05-07</td><td>pr101042</td><td>U124307</td><td>CLICK</td><td>Chrome</td><td>Mac OS X</td><td>null</td><td>India</td></tr>\n",
       "<tr><td>WI10000018039</td><td>2018-05-23</td><td>Pr101042</td><td>U113937</td><td>CLICK</td><td>Safari</td><td>mac os x</td><td>Dailekh</td><td>Nepal</td></tr>\n",
       "<tr><td>WI1000001200</td><td>2018-05-13</td><td>Pr101042</td><td>U115735</td><td>click</td><td>Chrome</td><td>Windows</td><td>Khammam</td><td>India</td></tr>\n",
       "<tr><td>WI10000022937</td><td>2018-05-16</td><td>Pr101964</td><td>U103943</td><td>click</td><td>Chrome</td><td>Windows</td><td>null</td><td>null</td></tr>\n",
       "<tr><td>WI100000129930</td><td>2018-05-14</td><td>Pr100573</td><td>U125369</td><td>click</td><td>Mobile Safari</td><td>iOS</td><td>Thane</td><td>India Thane</td></tr>\n",
       "<tr><td>WI100000319667</td><td>2018-05-25</td><td>pr100044</td><td>U111160</td><td>click</td><td>Chrome Mobile</td><td>Android</td><td>Bengaluru</td><td>India</td></tr>\n",
       "<tr><td>WI100000223289</td><td>2018-05-19</td><td>pr100152</td><td>U106132</td><td>click</td><td>Chrome</td><td>Mac OS X</td><td>Bentonville</td><td>United States</td></tr>\n",
       "<tr><td>WI1000006759</td><td>2018-05-17</td><td>Pr101614</td><td>U123525</td><td>pageload</td><td>Chrome Mobile</td><td>Android</td><td>Hanamigawa</td><td>Japan</td></tr>\n",
       "<tr><td>WI1000001500</td><td>2018-05-21</td><td>Pr100339</td><td>U119431</td><td>click</td><td>Chrome</td><td>windows</td><td>Kolkata</td><td>India</td></tr>\n",
       "<tr><td>WI10000063956</td><td>2018-05-16</td><td>Pr100784</td><td>U101041</td><td>click</td><td>Chrome</td><td>Windows</td><td>Ho Chi Minh City</td><td>Vietnam Ho Chi Mi...</td></tr>\n",
       "<tr><td>WI1000009950</td><td>2018-05-07</td><td>Pr101042</td><td>U101158</td><td>click</td><td>Chrome</td><td>Windows</td><td>null</td><td>India</td></tr>\n",
       "<tr><td>WI10000023672</td><td>2018-05-20</td><td>Pr100193</td><td>U120095</td><td>click</td><td>Chrome</td><td>Windows</td><td>null</td><td>India</td></tr>\n",
       "<tr><td>WI10000040950</td><td>2018-05-15</td><td>Pr100106</td><td>U110592</td><td>click</td><td>Chrome</td><td>Mac OS X</td><td>null</td><td>United States</td></tr>\n",
       "</table>\n",
       "only showing top 20 rows\n"
      ],
      "text/plain": [
       "+--------------+-------------+---------+-------+--------+-------------+---------+----------------+--------------------+\n",
       "|   webClientID|VisitDateTime|ProductID| UserID|Activity|      Browser|       OS|            City|             Country|\n",
       "+--------------+-------------+---------+-------+--------+-------------+---------+----------------+--------------------+\n",
       "|WI100000112772|   2018-05-15| Pr100017|U106593|   click|Chrome Mobile|  Android|            null|                null|\n",
       "|  WI1000009977|   2018-05-23| Pr101008|U108297|    null|Chrome Mobile|  Android|           Delhi|               India|\n",
       "|WI100000223826|   2018-05-10| Pr100241|U132443|    null|      Firefox|  Windows|            null|               India|\n",
       "| WI10000021998|   2018-05-08| pr100495|U134616|   click|       Chrome|  Windows|   Cottage Grove|       United States|\n",
       "| WI10000036281|   2018-05-11| Pr100363|U130784|   click|       Chrome|Chrome OS|       New Delhi|               India|\n",
       "|WI100000110130|   2018-05-19| pr100340|U120983|   click|       Chrome|  Windows|          Mumbai|               India|\n",
       "| WI10000014616|   2018-05-19| Pr100166|U120287|   click|       Chrome|  Windows|            null|                null|\n",
       "|WI100000102012|   2018-05-07| pr101042|U124307|   CLICK|       Chrome| Mac OS X|            null|               India|\n",
       "| WI10000018039|   2018-05-23| Pr101042|U113937|   CLICK|       Safari| mac os x|         Dailekh|               Nepal|\n",
       "|  WI1000001200|   2018-05-13| Pr101042|U115735|   click|       Chrome|  Windows|         Khammam|               India|\n",
       "| WI10000022937|   2018-05-16| Pr101964|U103943|   click|       Chrome|  Windows|            null|                null|\n",
       "|WI100000129930|   2018-05-14| Pr100573|U125369|   click|Mobile Safari|      iOS|           Thane|         India Thane|\n",
       "|WI100000319667|   2018-05-25| pr100044|U111160|   click|Chrome Mobile|  Android|       Bengaluru|               India|\n",
       "|WI100000223289|   2018-05-19| pr100152|U106132|   click|       Chrome| Mac OS X|     Bentonville|       United States|\n",
       "|  WI1000006759|   2018-05-17| Pr101614|U123525|pageload|Chrome Mobile|  Android|      Hanamigawa|               Japan|\n",
       "|  WI1000001500|   2018-05-21| Pr100339|U119431|   click|       Chrome|  windows|         Kolkata|               India|\n",
       "| WI10000063956|   2018-05-16| Pr100784|U101041|   click|       Chrome|  Windows|Ho Chi Minh City|Vietnam Ho Chi Mi...|\n",
       "|  WI1000009950|   2018-05-07| Pr101042|U101158|   click|       Chrome|  Windows|            null|               India|\n",
       "| WI10000023672|   2018-05-20| Pr100193|U120095|   click|       Chrome|  Windows|            null|               India|\n",
       "| WI10000040950|   2018-05-15| Pr100106|U110592|   click|       Chrome| Mac OS X|            null|       United States|\n",
       "+--------------+-------------+---------+-------+--------+-------------+---------+----------------+--------------------+\n",
       "only showing top 20 rows"
      ]
     },
     "execution_count": 74,
     "metadata": {},
     "output_type": "execute_result"
    }
   ],
   "source": [
    "visitor_logs = visitor_logs.withColumn(\"VisitDateTime\", when(col(\"VisitDateTime\").contains(\"-\"), to_date(col(\"VisitDateTime\"))).\\\n",
    "    otherwise(to_timestamp(col('VisitDateTime')/1000000000).cast('date')))\n",
    "\n",
    "visitor_logs"
   ]
  },
  {
   "cell_type": "code",
   "execution_count": 75,
   "metadata": {},
   "outputs": [
    {
     "name": "stdout",
     "output_type": "stream",
     "text": [
      "root\n",
      " |-- webClientID: string (nullable = true)\n",
      " |-- VisitDateTime: date (nullable = true)\n",
      " |-- ProductID: string (nullable = true)\n",
      " |-- UserID: string (nullable = true)\n",
      " |-- Activity: string (nullable = true)\n",
      " |-- Browser: string (nullable = true)\n",
      " |-- OS: string (nullable = true)\n",
      " |-- City: string (nullable = true)\n",
      " |-- Country: string (nullable = true)\n",
      "\n"
     ]
    }
   ],
   "source": [
    "visitor_logs.printSchema()"
   ]
  },
  {
   "cell_type": "code",
   "execution_count": 76,
   "metadata": {},
   "outputs": [
    {
     "data": {
      "text/plain": [
       "'IST'"
      ]
     },
     "execution_count": 76,
     "metadata": {},
     "output_type": "execute_result"
    }
   ],
   "source": [
    "spark.conf.get('spark.sql.session.timeZone')"
   ]
  },
  {
   "cell_type": "markdown",
   "metadata": {},
   "source": [
    "## Filter Visitor data for 21 days"
   ]
  },
  {
   "cell_type": "code",
   "execution_count": 77,
   "metadata": {},
   "outputs": [
    {
     "data": {
      "text/html": [
       "<table border='1'>\n",
       "<tr><th>webClientID</th><th>VisitDateTime</th><th>ProductID</th><th>UserID</th><th>Activity</th><th>Browser</th><th>OS</th><th>City</th><th>Country</th><th>end_date</th><th>start_date</th></tr>\n",
       "<tr><td>WI100000112772</td><td>2018-05-15</td><td>Pr100017</td><td>U106593</td><td>click</td><td>Chrome Mobile</td><td>Android</td><td>null</td><td>null</td><td>2018-05-27</td><td>2018-05-07</td></tr>\n",
       "<tr><td>WI1000009977</td><td>2018-05-23</td><td>Pr101008</td><td>U108297</td><td>null</td><td>Chrome Mobile</td><td>Android</td><td>Delhi</td><td>India</td><td>2018-05-27</td><td>2018-05-07</td></tr>\n",
       "<tr><td>WI100000223826</td><td>2018-05-10</td><td>Pr100241</td><td>U132443</td><td>null</td><td>Firefox</td><td>Windows</td><td>null</td><td>India</td><td>2018-05-27</td><td>2018-05-07</td></tr>\n",
       "<tr><td>WI10000021998</td><td>2018-05-08</td><td>pr100495</td><td>U134616</td><td>click</td><td>Chrome</td><td>Windows</td><td>Cottage Grove</td><td>United States</td><td>2018-05-27</td><td>2018-05-07</td></tr>\n",
       "<tr><td>WI10000036281</td><td>2018-05-11</td><td>Pr100363</td><td>U130784</td><td>click</td><td>Chrome</td><td>Chrome OS</td><td>New Delhi</td><td>India</td><td>2018-05-27</td><td>2018-05-07</td></tr>\n",
       "<tr><td>WI100000110130</td><td>2018-05-19</td><td>pr100340</td><td>U120983</td><td>click</td><td>Chrome</td><td>Windows</td><td>Mumbai</td><td>India</td><td>2018-05-27</td><td>2018-05-07</td></tr>\n",
       "<tr><td>WI10000014616</td><td>2018-05-19</td><td>Pr100166</td><td>U120287</td><td>click</td><td>Chrome</td><td>Windows</td><td>null</td><td>null</td><td>2018-05-27</td><td>2018-05-07</td></tr>\n",
       "<tr><td>WI100000102012</td><td>2018-05-07</td><td>pr101042</td><td>U124307</td><td>CLICK</td><td>Chrome</td><td>Mac OS X</td><td>null</td><td>India</td><td>2018-05-27</td><td>2018-05-07</td></tr>\n",
       "<tr><td>WI10000018039</td><td>2018-05-23</td><td>Pr101042</td><td>U113937</td><td>CLICK</td><td>Safari</td><td>mac os x</td><td>Dailekh</td><td>Nepal</td><td>2018-05-27</td><td>2018-05-07</td></tr>\n",
       "<tr><td>WI1000001200</td><td>2018-05-13</td><td>Pr101042</td><td>U115735</td><td>click</td><td>Chrome</td><td>Windows</td><td>Khammam</td><td>India</td><td>2018-05-27</td><td>2018-05-07</td></tr>\n",
       "<tr><td>WI10000022937</td><td>2018-05-16</td><td>Pr101964</td><td>U103943</td><td>click</td><td>Chrome</td><td>Windows</td><td>null</td><td>null</td><td>2018-05-27</td><td>2018-05-07</td></tr>\n",
       "<tr><td>WI100000129930</td><td>2018-05-14</td><td>Pr100573</td><td>U125369</td><td>click</td><td>Mobile Safari</td><td>iOS</td><td>Thane</td><td>India Thane</td><td>2018-05-27</td><td>2018-05-07</td></tr>\n",
       "<tr><td>WI100000319667</td><td>2018-05-25</td><td>pr100044</td><td>U111160</td><td>click</td><td>Chrome Mobile</td><td>Android</td><td>Bengaluru</td><td>India</td><td>2018-05-27</td><td>2018-05-07</td></tr>\n",
       "<tr><td>WI100000223289</td><td>2018-05-19</td><td>pr100152</td><td>U106132</td><td>click</td><td>Chrome</td><td>Mac OS X</td><td>Bentonville</td><td>United States</td><td>2018-05-27</td><td>2018-05-07</td></tr>\n",
       "<tr><td>WI1000006759</td><td>2018-05-17</td><td>Pr101614</td><td>U123525</td><td>pageload</td><td>Chrome Mobile</td><td>Android</td><td>Hanamigawa</td><td>Japan</td><td>2018-05-27</td><td>2018-05-07</td></tr>\n",
       "<tr><td>WI1000001500</td><td>2018-05-21</td><td>Pr100339</td><td>U119431</td><td>click</td><td>Chrome</td><td>windows</td><td>Kolkata</td><td>India</td><td>2018-05-27</td><td>2018-05-07</td></tr>\n",
       "<tr><td>WI10000063956</td><td>2018-05-16</td><td>Pr100784</td><td>U101041</td><td>click</td><td>Chrome</td><td>Windows</td><td>Ho Chi Minh City</td><td>Vietnam Ho Chi Mi...</td><td>2018-05-27</td><td>2018-05-07</td></tr>\n",
       "<tr><td>WI1000009950</td><td>2018-05-07</td><td>Pr101042</td><td>U101158</td><td>click</td><td>Chrome</td><td>Windows</td><td>null</td><td>India</td><td>2018-05-27</td><td>2018-05-07</td></tr>\n",
       "<tr><td>WI10000023672</td><td>2018-05-20</td><td>Pr100193</td><td>U120095</td><td>click</td><td>Chrome</td><td>Windows</td><td>null</td><td>India</td><td>2018-05-27</td><td>2018-05-07</td></tr>\n",
       "<tr><td>WI10000040950</td><td>2018-05-15</td><td>Pr100106</td><td>U110592</td><td>click</td><td>Chrome</td><td>Mac OS X</td><td>null</td><td>United States</td><td>2018-05-27</td><td>2018-05-07</td></tr>\n",
       "</table>\n",
       "only showing top 20 rows\n"
      ],
      "text/plain": [
       "+--------------+-------------+---------+-------+--------+-------------+---------+----------------+--------------------+----------+----------+\n",
       "|   webClientID|VisitDateTime|ProductID| UserID|Activity|      Browser|       OS|            City|             Country|  end_date|start_date|\n",
       "+--------------+-------------+---------+-------+--------+-------------+---------+----------------+--------------------+----------+----------+\n",
       "|WI100000112772|   2018-05-15| Pr100017|U106593|   click|Chrome Mobile|  Android|            null|                null|2018-05-27|2018-05-07|\n",
       "|  WI1000009977|   2018-05-23| Pr101008|U108297|    null|Chrome Mobile|  Android|           Delhi|               India|2018-05-27|2018-05-07|\n",
       "|WI100000223826|   2018-05-10| Pr100241|U132443|    null|      Firefox|  Windows|            null|               India|2018-05-27|2018-05-07|\n",
       "| WI10000021998|   2018-05-08| pr100495|U134616|   click|       Chrome|  Windows|   Cottage Grove|       United States|2018-05-27|2018-05-07|\n",
       "| WI10000036281|   2018-05-11| Pr100363|U130784|   click|       Chrome|Chrome OS|       New Delhi|               India|2018-05-27|2018-05-07|\n",
       "|WI100000110130|   2018-05-19| pr100340|U120983|   click|       Chrome|  Windows|          Mumbai|               India|2018-05-27|2018-05-07|\n",
       "| WI10000014616|   2018-05-19| Pr100166|U120287|   click|       Chrome|  Windows|            null|                null|2018-05-27|2018-05-07|\n",
       "|WI100000102012|   2018-05-07| pr101042|U124307|   CLICK|       Chrome| Mac OS X|            null|               India|2018-05-27|2018-05-07|\n",
       "| WI10000018039|   2018-05-23| Pr101042|U113937|   CLICK|       Safari| mac os x|         Dailekh|               Nepal|2018-05-27|2018-05-07|\n",
       "|  WI1000001200|   2018-05-13| Pr101042|U115735|   click|       Chrome|  Windows|         Khammam|               India|2018-05-27|2018-05-07|\n",
       "| WI10000022937|   2018-05-16| Pr101964|U103943|   click|       Chrome|  Windows|            null|                null|2018-05-27|2018-05-07|\n",
       "|WI100000129930|   2018-05-14| Pr100573|U125369|   click|Mobile Safari|      iOS|           Thane|         India Thane|2018-05-27|2018-05-07|\n",
       "|WI100000319667|   2018-05-25| pr100044|U111160|   click|Chrome Mobile|  Android|       Bengaluru|               India|2018-05-27|2018-05-07|\n",
       "|WI100000223289|   2018-05-19| pr100152|U106132|   click|       Chrome| Mac OS X|     Bentonville|       United States|2018-05-27|2018-05-07|\n",
       "|  WI1000006759|   2018-05-17| Pr101614|U123525|pageload|Chrome Mobile|  Android|      Hanamigawa|               Japan|2018-05-27|2018-05-07|\n",
       "|  WI1000001500|   2018-05-21| Pr100339|U119431|   click|       Chrome|  windows|         Kolkata|               India|2018-05-27|2018-05-07|\n",
       "| WI10000063956|   2018-05-16| Pr100784|U101041|   click|       Chrome|  Windows|Ho Chi Minh City|Vietnam Ho Chi Mi...|2018-05-27|2018-05-07|\n",
       "|  WI1000009950|   2018-05-07| Pr101042|U101158|   click|       Chrome|  Windows|            null|               India|2018-05-27|2018-05-07|\n",
       "| WI10000023672|   2018-05-20| Pr100193|U120095|   click|       Chrome|  Windows|            null|               India|2018-05-27|2018-05-07|\n",
       "| WI10000040950|   2018-05-15| Pr100106|U110592|   click|       Chrome| Mac OS X|            null|       United States|2018-05-27|2018-05-07|\n",
       "+--------------+-------------+---------+-------+--------+-------------+---------+----------------+--------------------+----------+----------+\n",
       "only showing top 20 rows"
      ]
     },
     "execution_count": 77,
     "metadata": {},
     "output_type": "execute_result"
    }
   ],
   "source": [
    "visitor_logs = visitor_logs.withColumn(\"end_date\", date_add(to_date(lit(ref_date), format=\"dd-MMM-yyyy\"), -1))\n",
    "visitor_logs = visitor_logs.withColumn(\"start_date\", date_add(to_date(lit(ref_date), format=\"dd-MMM-yyyy\"), -21))\n",
    "\n",
    "visitor_logs"
   ]
  },
  {
   "cell_type": "code",
   "execution_count": 78,
   "metadata": {},
   "outputs": [],
   "source": [
    "visitor_logs = visitor_logs.filter((col(\"VisitDateTime\") >=col(\"start_date\")) & (col(\"VisitDateTime\") <= col(\"end_date\")))\n",
    "visitor_logs = visitor_logs.drop(\"end_date\", \"start_date\")"
   ]
  },
  {
   "cell_type": "code",
   "execution_count": 79,
   "metadata": {},
   "outputs": [],
   "source": [
    "cols_to_lower = [\"ProductID\",\"Activity\", \"Browser\", \"OS\", \"City\", \"Country\"]\n",
    "\n",
    "for c in cols_to_lower:\n",
    "    visitor_logs = visitor_logs.withColumn(c, lower(col(c)))"
   ]
  },
  {
   "cell_type": "code",
   "execution_count": 80,
   "metadata": {},
   "outputs": [
    {
     "name": "stdout",
     "output_type": "stream",
     "text": [
      "Unique of the column: Activity\n",
      "+--------+\n",
      "|Activity|\n",
      "+--------+\n",
      "|    null|\n",
      "|   click|\n",
      "|pageload|\n",
      "+--------+\n",
      "\n",
      "Unique of the column: Browser\n",
      "+--------------------+\n",
      "|             Browser|\n",
      "+--------------------+\n",
      "|            chromium|\n",
      "|       mobile safari|\n",
      "|             firefox|\n",
      "|      firefox mobile|\n",
      "|       chrome mobile|\n",
      "|          apple mail|\n",
      "|              chrome|\n",
      "|          qq browser|\n",
      "|      yandex browser|\n",
      "|                edge|\n",
      "|          uc browser|\n",
      "|             maxthon|\n",
      "|        opera mobile|\n",
      "|         amazon silk|\n",
      "|mobile safari ui/...|\n",
      "|             coc coc|\n",
      "|    samsung internet|\n",
      "|   chrome mobile ios|\n",
      "|         firefox ios|\n",
      "|chrome mobile web...|\n",
      "+--------------------+\n",
      "only showing top 20 rows\n",
      "\n",
      "Unique of the column: OS\n",
      "+---------+\n",
      "|       OS|\n",
      "+---------+\n",
      "|  android|\n",
      "|   ubuntu|\n",
      "|   fedora|\n",
      "|    linux|\n",
      "|chrome os|\n",
      "|      ios|\n",
      "|    tizen|\n",
      "| mac os x|\n",
      "|  windows|\n",
      "+---------+\n",
      "\n",
      "Unique of the column: City\n",
      "+-------------+\n",
      "|         City|\n",
      "+-------------+\n",
      "| nieuw-vennep|\n",
      "|        sagar|\n",
      "|    kathmandu|\n",
      "|     yokohama|\n",
      "|       dammam|\n",
      "|       kaunas|\n",
      "|  sanski most|\n",
      "|         rize|\n",
      "|      phaltan|\n",
      "|   cuernavaca|\n",
      "|       suzhou|\n",
      "|    kitchener|\n",
      "|       djelfa|\n",
      "|      morinda|\n",
      "|mercer island|\n",
      "|     cheyenne|\n",
      "|       lugano|\n",
      "|   chilliwack|\n",
      "|        anoka|\n",
      "|mechanicsburg|\n",
      "+-------------+\n",
      "only showing top 20 rows\n",
      "\n",
      "Unique of the column: Country\n",
      "+--------------------+\n",
      "|             Country|\n",
      "+--------------------+\n",
      "|   hong kong kowloon|\n",
      "|united states mou...|\n",
      "|        india godhra|\n",
      "|united states lyn...|\n",
      "|       india tarnaka|\n",
      "|       canada ottawa|\n",
      "|       india chirala|\n",
      "| kuwait as salimiyah|\n",
      "|united states dee...|\n",
      "|  australia boondall|\n",
      "|       spain quiroga|\n",
      "|     india jharsugra|\n",
      "| thailand nonthaburi|\n",
      "|netherlands 's-he...|\n",
      "|       morocco rabat|\n",
      "|     india panchkula|\n",
      "|germany kaisersla...|\n",
      "|  australia nedlands|\n",
      "|             finland|\n",
      "|united states cha...|\n",
      "+--------------------+\n",
      "only showing top 20 rows\n",
      "\n"
     ]
    }
   ],
   "source": [
    "for c in [\"Activity\", \"Browser\", \"OS\", \"City\", \"Country\"]:\n",
    "    print(f\"Unique of the column: {c}\")\n",
    "    visitor_logs.select(c).distinct().show()"
   ]
  },
  {
   "cell_type": "code",
   "execution_count": 81,
   "metadata": {},
   "outputs": [],
   "source": [
    "timeline = pd.DataFrame(pd.date_range(start=date_shift(ref_date, -21),end=date_shift(ref_date, -1)))\n",
    "users_df = users.select(\"UserID\").distinct().toPandas()\n",
    "\n",
    "\n",
    "timeline['key'] = 0\n",
    "users_df['key'] = 0\n",
    "\n",
    "userTimeline = users_df.merge(timeline, on='key', how='outer')\n",
    "userTimeline = userTimeline.rename(columns={0: \"VisitDateTime\"})\n",
    "userTimeline = userTimeline.drop(\"key\", axis=1)"
   ]
  },
  {
   "cell_type": "code",
   "execution_count": 82,
   "metadata": {},
   "outputs": [],
   "source": [
    "spark.conf.set(\"spark.sql.session.timeZone\", \"UTC\")\n",
    "userTimeline = spark.createDataFrame(userTimeline)"
   ]
  },
  {
   "cell_type": "code",
   "execution_count": 83,
   "metadata": {},
   "outputs": [],
   "source": [
    "spark.conf.set(\"spark.sql.session.timeZone\", \"IST\")\n",
    "userTimeline = userTimeline.withColumn(\"VisitDateTime\", to_date(col(\"VisitDateTime\").cast(\"date\")))"
   ]
  },
  {
   "cell_type": "code",
   "execution_count": 84,
   "metadata": {},
   "outputs": [],
   "source": [
    "merged_data = userTimeline.join(visitor_logs, on= [\"UserID\", \"VisitDateTime\"], how=\"left\")"
   ]
  },
  {
   "cell_type": "code",
   "execution_count": 85,
   "metadata": {},
   "outputs": [
    {
     "data": {
      "text/html": [
       "<table border='1'>\n",
       "<tr><th>UserID</th><th>VisitDateTime</th><th>webClientID</th><th>ProductID</th><th>Activity</th><th>Browser</th><th>OS</th><th>City</th><th>Country</th><th>Signup Date</th><th>User Segment</th><th>last_7_days</th><th>last_15_days</th></tr>\n",
       "<tr><td>U100002</td><td>2018-05-27</td><td>null</td><td>null</td><td>null</td><td>null</td><td>null</td><td>null</td><td>null</td><td>2018-04-05 21:11:...</td><td>B</td><td>2018-05-21</td><td>2018-05-13</td></tr>\n",
       "<tr><td>U100002</td><td>2018-05-26</td><td>null</td><td>null</td><td>null</td><td>null</td><td>null</td><td>null</td><td>null</td><td>2018-04-05 21:11:...</td><td>B</td><td>2018-05-21</td><td>2018-05-13</td></tr>\n",
       "<tr><td>U100002</td><td>2018-05-25</td><td>null</td><td>null</td><td>null</td><td>null</td><td>null</td><td>null</td><td>null</td><td>2018-04-05 21:11:...</td><td>B</td><td>2018-05-21</td><td>2018-05-13</td></tr>\n",
       "<tr><td>U100002</td><td>2018-05-24</td><td>null</td><td>null</td><td>null</td><td>null</td><td>null</td><td>null</td><td>null</td><td>2018-04-05 21:11:...</td><td>B</td><td>2018-05-21</td><td>2018-05-13</td></tr>\n",
       "<tr><td>U100002</td><td>2018-05-23</td><td>null</td><td>null</td><td>null</td><td>null</td><td>null</td><td>null</td><td>null</td><td>2018-04-05 21:11:...</td><td>B</td><td>2018-05-21</td><td>2018-05-13</td></tr>\n",
       "<tr><td>U100002</td><td>2018-05-22</td><td>null</td><td>null</td><td>null</td><td>null</td><td>null</td><td>null</td><td>null</td><td>2018-04-05 21:11:...</td><td>B</td><td>2018-05-21</td><td>2018-05-13</td></tr>\n",
       "<tr><td>U100002</td><td>2018-05-21</td><td>null</td><td>null</td><td>null</td><td>null</td><td>null</td><td>null</td><td>null</td><td>2018-04-05 21:11:...</td><td>B</td><td>2018-05-21</td><td>2018-05-13</td></tr>\n",
       "<tr><td>U100002</td><td>2018-05-20</td><td>null</td><td>null</td><td>null</td><td>null</td><td>null</td><td>null</td><td>null</td><td>2018-04-05 21:11:...</td><td>B</td><td>2018-05-21</td><td>2018-05-13</td></tr>\n",
       "<tr><td>U100002</td><td>2018-05-19</td><td>null</td><td>null</td><td>null</td><td>null</td><td>null</td><td>null</td><td>null</td><td>2018-04-05 21:11:...</td><td>B</td><td>2018-05-21</td><td>2018-05-13</td></tr>\n",
       "<tr><td>U100002</td><td>2018-05-18</td><td>WI10000020634</td><td>pr100258</td><td>null</td><td>chrome mobile</td><td>android</td><td>salvador</td><td>brazil</td><td>2018-04-05 21:11:...</td><td>B</td><td>2018-05-21</td><td>2018-05-13</td></tr>\n",
       "<tr><td>U100002</td><td>2018-05-18</td><td>WI10000020634</td><td>pr100258</td><td>click</td><td>chrome mobile</td><td>android</td><td>salvador</td><td>brazil</td><td>2018-04-05 21:11:...</td><td>B</td><td>2018-05-21</td><td>2018-05-13</td></tr>\n",
       "<tr><td>U100002</td><td>2018-05-18</td><td>WI10000020634</td><td>pr101097</td><td>null</td><td>chrome mobile</td><td>android</td><td>salvador</td><td>brazil</td><td>2018-04-05 21:11:...</td><td>B</td><td>2018-05-21</td><td>2018-05-13</td></tr>\n",
       "<tr><td>U100002</td><td>2018-05-18</td><td>WI10000020634</td><td>pr100258</td><td>pageload</td><td>chrome mobile</td><td>android</td><td>salvador</td><td>brazil salvador</td><td>2018-04-05 21:11:...</td><td>B</td><td>2018-05-21</td><td>2018-05-13</td></tr>\n",
       "<tr><td>U100002</td><td>2018-05-18</td><td>WI10000020634</td><td>pr100258</td><td>pageload</td><td>chrome mobile</td><td>android</td><td>salvador</td><td>brazil</td><td>2018-04-05 21:11:...</td><td>B</td><td>2018-05-21</td><td>2018-05-13</td></tr>\n",
       "<tr><td>U100002</td><td>2018-05-17</td><td>null</td><td>null</td><td>null</td><td>null</td><td>null</td><td>null</td><td>null</td><td>2018-04-05 21:11:...</td><td>B</td><td>2018-05-21</td><td>2018-05-13</td></tr>\n",
       "<tr><td>U100002</td><td>2018-05-16</td><td>null</td><td>null</td><td>null</td><td>null</td><td>null</td><td>null</td><td>null</td><td>2018-04-05 21:11:...</td><td>B</td><td>2018-05-21</td><td>2018-05-13</td></tr>\n",
       "<tr><td>U100002</td><td>2018-05-15</td><td>null</td><td>null</td><td>null</td><td>null</td><td>null</td><td>null</td><td>null</td><td>2018-04-05 21:11:...</td><td>B</td><td>2018-05-21</td><td>2018-05-13</td></tr>\n",
       "<tr><td>U100002</td><td>2018-05-14</td><td>null</td><td>null</td><td>null</td><td>null</td><td>null</td><td>null</td><td>null</td><td>2018-04-05 21:11:...</td><td>B</td><td>2018-05-21</td><td>2018-05-13</td></tr>\n",
       "<tr><td>U100002</td><td>2018-05-13</td><td>null</td><td>null</td><td>null</td><td>null</td><td>null</td><td>null</td><td>null</td><td>2018-04-05 21:11:...</td><td>B</td><td>2018-05-21</td><td>2018-05-13</td></tr>\n",
       "<tr><td>U100002</td><td>2018-05-12</td><td>null</td><td>null</td><td>null</td><td>null</td><td>null</td><td>null</td><td>null</td><td>2018-04-05 21:11:...</td><td>B</td><td>2018-05-21</td><td>2018-05-13</td></tr>\n",
       "</table>\n",
       "only showing top 20 rows\n"
      ],
      "text/plain": [
       "+-------+-------------+-------------+---------+--------+-------------+-------+--------+---------------+--------------------+------------+-----------+------------+\n",
       "| UserID|VisitDateTime|  webClientID|ProductID|Activity|      Browser|     OS|    City|        Country|         Signup Date|User Segment|last_7_days|last_15_days|\n",
       "+-------+-------------+-------------+---------+--------+-------------+-------+--------+---------------+--------------------+------------+-----------+------------+\n",
       "|U100002|   2018-05-27|         null|     null|    null|         null|   null|    null|           null|2018-04-05 21:11:...|           B| 2018-05-21|  2018-05-13|\n",
       "|U100002|   2018-05-26|         null|     null|    null|         null|   null|    null|           null|2018-04-05 21:11:...|           B| 2018-05-21|  2018-05-13|\n",
       "|U100002|   2018-05-25|         null|     null|    null|         null|   null|    null|           null|2018-04-05 21:11:...|           B| 2018-05-21|  2018-05-13|\n",
       "|U100002|   2018-05-24|         null|     null|    null|         null|   null|    null|           null|2018-04-05 21:11:...|           B| 2018-05-21|  2018-05-13|\n",
       "|U100002|   2018-05-23|         null|     null|    null|         null|   null|    null|           null|2018-04-05 21:11:...|           B| 2018-05-21|  2018-05-13|\n",
       "|U100002|   2018-05-22|         null|     null|    null|         null|   null|    null|           null|2018-04-05 21:11:...|           B| 2018-05-21|  2018-05-13|\n",
       "|U100002|   2018-05-21|         null|     null|    null|         null|   null|    null|           null|2018-04-05 21:11:...|           B| 2018-05-21|  2018-05-13|\n",
       "|U100002|   2018-05-20|         null|     null|    null|         null|   null|    null|           null|2018-04-05 21:11:...|           B| 2018-05-21|  2018-05-13|\n",
       "|U100002|   2018-05-19|         null|     null|    null|         null|   null|    null|           null|2018-04-05 21:11:...|           B| 2018-05-21|  2018-05-13|\n",
       "|U100002|   2018-05-18|WI10000020634| pr100258|    null|chrome mobile|android|salvador|         brazil|2018-04-05 21:11:...|           B| 2018-05-21|  2018-05-13|\n",
       "|U100002|   2018-05-18|WI10000020634| pr101097|    null|chrome mobile|android|salvador|         brazil|2018-04-05 21:11:...|           B| 2018-05-21|  2018-05-13|\n",
       "|U100002|   2018-05-18|WI10000020634| pr100258|pageload|chrome mobile|android|salvador|brazil salvador|2018-04-05 21:11:...|           B| 2018-05-21|  2018-05-13|\n",
       "|U100002|   2018-05-18|WI10000020634| pr100258|pageload|chrome mobile|android|salvador|         brazil|2018-04-05 21:11:...|           B| 2018-05-21|  2018-05-13|\n",
       "|U100002|   2018-05-18|WI10000020634| pr100258|   click|chrome mobile|android|salvador|         brazil|2018-04-05 21:11:...|           B| 2018-05-21|  2018-05-13|\n",
       "|U100002|   2018-05-17|         null|     null|    null|         null|   null|    null|           null|2018-04-05 21:11:...|           B| 2018-05-21|  2018-05-13|\n",
       "|U100002|   2018-05-16|         null|     null|    null|         null|   null|    null|           null|2018-04-05 21:11:...|           B| 2018-05-21|  2018-05-13|\n",
       "|U100002|   2018-05-15|         null|     null|    null|         null|   null|    null|           null|2018-04-05 21:11:...|           B| 2018-05-21|  2018-05-13|\n",
       "|U100002|   2018-05-14|         null|     null|    null|         null|   null|    null|           null|2018-04-05 21:11:...|           B| 2018-05-21|  2018-05-13|\n",
       "|U100002|   2018-05-13|         null|     null|    null|         null|   null|    null|           null|2018-04-05 21:11:...|           B| 2018-05-21|  2018-05-13|\n",
       "|U100002|   2018-05-12|         null|     null|    null|         null|   null|    null|           null|2018-04-05 21:11:...|           B| 2018-05-21|  2018-05-13|\n",
       "+-------+-------------+-------------+---------+--------+-------------+-------+--------+---------------+--------------------+------------+-----------+------------+\n",
       "only showing top 20 rows"
      ]
     },
     "execution_count": 85,
     "metadata": {},
     "output_type": "execute_result"
    }
   ],
   "source": [
    "final_merged_data = merged_data.join(users, on= \"UserID\", how=\"left\").orderBy(\"UserID\", desc(\"VisitDateTime\"))\n",
    "final_merged_data = final_merged_data.withColumn(\"last_7_days\", date_add(to_date(lit(ref_date), format=\"dd-MMM-yyyy\"), -7))\n",
    "final_merged_data = final_merged_data.withColumn(\"last_15_days\", date_add(to_date(lit(ref_date), format=\"dd-MMM-yyyy\"), -15))\n",
    "final_merged_data = final_merged_data.withColumn(\"Is_Active\", when(col(\"webClientID\").isNotNull(), 1).otherwise(0))\n",
    "final_merged_data"
   ]
  },
  {
   "cell_type": "code",
   "execution_count": 86,
   "metadata": {},
   "outputs": [
    {
     "data": {
      "text/plain": [
       "34050"
      ]
     },
     "execution_count": 86,
     "metadata": {},
     "output_type": "execute_result"
    }
   ],
   "source": [
    "final_merged_data.select(\"UserID\").distinct().count()"
   ]
  },
  {
   "cell_type": "code",
   "execution_count": 119,
   "metadata": {},
   "outputs": [
    {
     "data": {
      "text/html": [
       "<table border='1'>\n",
       "<tr><th>UserID</th><th>VisitDateTime</th><th>webClientID</th><th>ProductID</th><th>Activity</th><th>Browser</th><th>OS</th><th>City</th><th>Country</th><th>Signup Date</th><th>User Segment</th><th>last_7_days</th><th>last_15_days</th><th>Is_Active</th><th>cum_sum</th><th>cumsum</th></tr>\n",
       "<tr><td>U100364</td><td>2018-05-27</td><td>null</td><td>null</td><td>null</td><td>null</td><td>null</td><td>null</td><td>null</td><td>2017-07-23 16:32:...</td><td>B</td><td>2018-05-21</td><td>2018-05-13</td><td>0</td><td>0</td><td>0</td></tr>\n",
       "<tr><td>U100364</td><td>2018-05-26</td><td>null</td><td>null</td><td>null</td><td>null</td><td>null</td><td>null</td><td>null</td><td>2017-07-23 16:32:...</td><td>B</td><td>2018-05-21</td><td>2018-05-13</td><td>0</td><td>0</td><td>0</td></tr>\n",
       "<tr><td>U100364</td><td>2018-05-25</td><td>null</td><td>null</td><td>null</td><td>null</td><td>null</td><td>null</td><td>null</td><td>2017-07-23 16:32:...</td><td>B</td><td>2018-05-21</td><td>2018-05-13</td><td>0</td><td>0</td><td>0</td></tr>\n",
       "<tr><td>U100364</td><td>2018-05-24</td><td>null</td><td>null</td><td>null</td><td>null</td><td>null</td><td>null</td><td>null</td><td>2017-07-23 16:32:...</td><td>B</td><td>2018-05-21</td><td>2018-05-13</td><td>0</td><td>0</td><td>0</td></tr>\n",
       "<tr><td>U100364</td><td>2018-05-23</td><td>null</td><td>null</td><td>null</td><td>null</td><td>null</td><td>null</td><td>null</td><td>2017-07-23 16:32:...</td><td>B</td><td>2018-05-21</td><td>2018-05-13</td><td>0</td><td>0</td><td>0</td></tr>\n",
       "<tr><td>U100364</td><td>2018-05-22</td><td>null</td><td>null</td><td>null</td><td>null</td><td>null</td><td>null</td><td>null</td><td>2017-07-23 16:32:...</td><td>B</td><td>2018-05-21</td><td>2018-05-13</td><td>0</td><td>0</td><td>0</td></tr>\n",
       "<tr><td>U100364</td><td>2018-05-21</td><td>null</td><td>null</td><td>null</td><td>null</td><td>null</td><td>null</td><td>null</td><td>2017-07-23 16:32:...</td><td>B</td><td>2018-05-21</td><td>2018-05-13</td><td>0</td><td>0</td><td>0</td></tr>\n",
       "<tr><td>U100364</td><td>2018-05-20</td><td>null</td><td>null</td><td>null</td><td>null</td><td>null</td><td>null</td><td>null</td><td>2017-07-23 16:32:...</td><td>B</td><td>2018-05-21</td><td>2018-05-13</td><td>0</td><td>0</td><td>0</td></tr>\n",
       "<tr><td>U100364</td><td>2018-05-19</td><td>null</td><td>null</td><td>null</td><td>null</td><td>null</td><td>null</td><td>null</td><td>2017-07-23 16:32:...</td><td>B</td><td>2018-05-21</td><td>2018-05-13</td><td>0</td><td>0</td><td>0</td></tr>\n",
       "<tr><td>U100364</td><td>2018-05-18</td><td>null</td><td>null</td><td>null</td><td>null</td><td>null</td><td>null</td><td>null</td><td>2017-07-23 16:32:...</td><td>B</td><td>2018-05-21</td><td>2018-05-13</td><td>0</td><td>0</td><td>0</td></tr>\n",
       "<tr><td>U100364</td><td>2018-05-17</td><td>null</td><td>null</td><td>null</td><td>null</td><td>null</td><td>null</td><td>null</td><td>2017-07-23 16:32:...</td><td>B</td><td>2018-05-21</td><td>2018-05-13</td><td>0</td><td>0</td><td>0</td></tr>\n",
       "<tr><td>U100364</td><td>2018-05-16</td><td>null</td><td>null</td><td>null</td><td>null</td><td>null</td><td>null</td><td>null</td><td>2017-07-23 16:32:...</td><td>B</td><td>2018-05-21</td><td>2018-05-13</td><td>0</td><td>0</td><td>0</td></tr>\n",
       "<tr><td>U100364</td><td>2018-05-15</td><td>null</td><td>null</td><td>null</td><td>null</td><td>null</td><td>null</td><td>null</td><td>2017-07-23 16:32:...</td><td>B</td><td>2018-05-21</td><td>2018-05-13</td><td>0</td><td>0</td><td>0</td></tr>\n",
       "<tr><td>U100364</td><td>2018-05-14</td><td>WI100000401415</td><td>pr100152</td><td>click</td><td>chrome</td><td>windows</td><td>vijayawada</td><td>india</td><td>2017-07-23 16:32:...</td><td>B</td><td>2018-05-21</td><td>2018-05-13</td><td>1</td><td>2</td><td>1</td></tr>\n",
       "<tr><td>U100364</td><td>2018-05-14</td><td>WI100000401415</td><td>pr100152</td><td>null</td><td>chrome</td><td>windows</td><td>vijayawada</td><td>india</td><td>2017-07-23 16:32:...</td><td>B</td><td>2018-05-21</td><td>2018-05-13</td><td>1</td><td>2</td><td>2</td></tr>\n",
       "<tr><td>U100364</td><td>2018-05-13</td><td>null</td><td>null</td><td>null</td><td>null</td><td>null</td><td>null</td><td>null</td><td>2017-07-23 16:32:...</td><td>B</td><td>2018-05-21</td><td>2018-05-13</td><td>0</td><td>2</td><td>2</td></tr>\n",
       "<tr><td>U100364</td><td>2018-05-12</td><td>null</td><td>null</td><td>null</td><td>null</td><td>null</td><td>null</td><td>null</td><td>2017-07-23 16:32:...</td><td>B</td><td>2018-05-21</td><td>2018-05-13</td><td>0</td><td>2</td><td>2</td></tr>\n",
       "<tr><td>U100364</td><td>2018-05-11</td><td>null</td><td>null</td><td>null</td><td>null</td><td>null</td><td>null</td><td>null</td><td>2017-07-23 16:32:...</td><td>B</td><td>2018-05-21</td><td>2018-05-13</td><td>0</td><td>2</td><td>2</td></tr>\n",
       "<tr><td>U100364</td><td>2018-05-10</td><td>null</td><td>null</td><td>null</td><td>null</td><td>null</td><td>null</td><td>null</td><td>2017-07-23 16:32:...</td><td>B</td><td>2018-05-21</td><td>2018-05-13</td><td>0</td><td>2</td><td>2</td></tr>\n",
       "<tr><td>U100364</td><td>2018-05-09</td><td>null</td><td>null</td><td>null</td><td>null</td><td>null</td><td>null</td><td>null</td><td>2017-07-23 16:32:...</td><td>B</td><td>2018-05-21</td><td>2018-05-13</td><td>0</td><td>2</td><td>2</td></tr>\n",
       "</table>\n",
       "only showing top 20 rows\n"
      ],
      "text/plain": [
       "+-------+-------------+--------------+---------+--------+-------+-------+----------+-------+--------------------+------------+-----------+------------+---------+-------+------+\n",
       "| UserID|VisitDateTime|   webClientID|ProductID|Activity|Browser|     OS|      City|Country|         Signup Date|User Segment|last_7_days|last_15_days|Is_Active|cum_sum|cumsum|\n",
       "+-------+-------------+--------------+---------+--------+-------+-------+----------+-------+--------------------+------------+-----------+------------+---------+-------+------+\n",
       "|U100364|   2018-05-27|          null|     null|    null|   null|   null|      null|   null|2017-07-23 16:32:...|           B| 2018-05-21|  2018-05-13|        0|      0|     0|\n",
       "|U100364|   2018-05-26|          null|     null|    null|   null|   null|      null|   null|2017-07-23 16:32:...|           B| 2018-05-21|  2018-05-13|        0|      0|     0|\n",
       "|U100364|   2018-05-25|          null|     null|    null|   null|   null|      null|   null|2017-07-23 16:32:...|           B| 2018-05-21|  2018-05-13|        0|      0|     0|\n",
       "|U100364|   2018-05-24|          null|     null|    null|   null|   null|      null|   null|2017-07-23 16:32:...|           B| 2018-05-21|  2018-05-13|        0|      0|     0|\n",
       "|U100364|   2018-05-23|          null|     null|    null|   null|   null|      null|   null|2017-07-23 16:32:...|           B| 2018-05-21|  2018-05-13|        0|      0|     0|\n",
       "|U100364|   2018-05-22|          null|     null|    null|   null|   null|      null|   null|2017-07-23 16:32:...|           B| 2018-05-21|  2018-05-13|        0|      0|     0|\n",
       "|U100364|   2018-05-21|          null|     null|    null|   null|   null|      null|   null|2017-07-23 16:32:...|           B| 2018-05-21|  2018-05-13|        0|      0|     0|\n",
       "|U100364|   2018-05-20|          null|     null|    null|   null|   null|      null|   null|2017-07-23 16:32:...|           B| 2018-05-21|  2018-05-13|        0|      0|     0|\n",
       "|U100364|   2018-05-19|          null|     null|    null|   null|   null|      null|   null|2017-07-23 16:32:...|           B| 2018-05-21|  2018-05-13|        0|      0|     0|\n",
       "|U100364|   2018-05-18|          null|     null|    null|   null|   null|      null|   null|2017-07-23 16:32:...|           B| 2018-05-21|  2018-05-13|        0|      0|     0|\n",
       "|U100364|   2018-05-17|          null|     null|    null|   null|   null|      null|   null|2017-07-23 16:32:...|           B| 2018-05-21|  2018-05-13|        0|      0|     0|\n",
       "|U100364|   2018-05-16|          null|     null|    null|   null|   null|      null|   null|2017-07-23 16:32:...|           B| 2018-05-21|  2018-05-13|        0|      0|     0|\n",
       "|U100364|   2018-05-15|          null|     null|    null|   null|   null|      null|   null|2017-07-23 16:32:...|           B| 2018-05-21|  2018-05-13|        0|      0|     0|\n",
       "|U100364|   2018-05-14|WI100000401415| pr100152|   click| chrome|windows|vijayawada|  india|2017-07-23 16:32:...|           B| 2018-05-21|  2018-05-13|        1|      2|     1|\n",
       "|U100364|   2018-05-14|WI100000401415| pr100152|    null| chrome|windows|vijayawada|  india|2017-07-23 16:32:...|           B| 2018-05-21|  2018-05-13|        1|      2|     2|\n",
       "|U100364|   2018-05-13|          null|     null|    null|   null|   null|      null|   null|2017-07-23 16:32:...|           B| 2018-05-21|  2018-05-13|        0|      2|     2|\n",
       "|U100364|   2018-05-12|          null|     null|    null|   null|   null|      null|   null|2017-07-23 16:32:...|           B| 2018-05-21|  2018-05-13|        0|      2|     2|\n",
       "|U100364|   2018-05-11|          null|     null|    null|   null|   null|      null|   null|2017-07-23 16:32:...|           B| 2018-05-21|  2018-05-13|        0|      2|     2|\n",
       "|U100364|   2018-05-10|          null|     null|    null|   null|   null|      null|   null|2017-07-23 16:32:...|           B| 2018-05-21|  2018-05-13|        0|      2|     2|\n",
       "|U100364|   2018-05-09|          null|     null|    null|   null|   null|      null|   null|2017-07-23 16:32:...|           B| 2018-05-21|  2018-05-13|        0|      2|     2|\n",
       "+-------+-------------+--------------+---------+--------+-------+-------+----------+-------+--------------------+------------+-----------+------------+---------+-------+------+\n",
       "only showing top 20 rows"
      ]
     },
     "execution_count": 119,
     "metadata": {},
     "output_type": "execute_result"
    }
   ],
   "source": [
    "import sys\n",
    "windowval = (Window.partitionBy('UserID').orderBy(desc('VisitDateTime'))\n",
    "             .rangeBetween(Window.unboundedPreceding, 0))\n",
    "final_merged_data = final_merged_data.withColumn('cum_sum', sum('Is_Active').over(windowval))\n",
    "\n",
    "final_merged_data"
   ]
  },
  {
   "cell_type": "code",
   "execution_count": 134,
   "metadata": {},
   "outputs": [
    {
     "data": {
      "text/html": [
       "<table border='1'>\n",
       "<tr><th>UserID</th><th>VisitDateTime</th><th>webClientID</th><th>ProductID</th><th>Activity</th><th>Browser</th><th>OS</th><th>City</th><th>Country</th><th>Signup Date</th><th>User Segment</th><th>last_7_days</th><th>last_15_days</th><th>Is_Active</th><th>cum_sum</th><th>cumsum</th></tr>\n",
       "<tr><td>U100364</td><td>2018-05-27</td><td>null</td><td>null</td><td>null</td><td>null</td><td>null</td><td>null</td><td>null</td><td>null</td><td>B</td><td>2018-05-21</td><td>2018-05-13</td><td>0</td><td>0</td><td>0</td></tr>\n",
       "<tr><td>U100364</td><td>2018-05-26</td><td>null</td><td>null</td><td>null</td><td>null</td><td>null</td><td>null</td><td>null</td><td>null</td><td>B</td><td>2018-05-21</td><td>2018-05-13</td><td>0</td><td>0</td><td>0</td></tr>\n",
       "<tr><td>U100364</td><td>2018-05-25</td><td>null</td><td>null</td><td>null</td><td>null</td><td>null</td><td>null</td><td>null</td><td>null</td><td>B</td><td>2018-05-21</td><td>2018-05-13</td><td>0</td><td>0</td><td>0</td></tr>\n",
       "<tr><td>U100364</td><td>2018-05-24</td><td>null</td><td>null</td><td>null</td><td>null</td><td>null</td><td>null</td><td>null</td><td>null</td><td>B</td><td>2018-05-21</td><td>2018-05-13</td><td>0</td><td>0</td><td>0</td></tr>\n",
       "<tr><td>U100364</td><td>2018-05-23</td><td>null</td><td>null</td><td>null</td><td>null</td><td>null</td><td>null</td><td>null</td><td>null</td><td>B</td><td>2018-05-21</td><td>2018-05-13</td><td>0</td><td>0</td><td>0</td></tr>\n",
       "<tr><td>U100364</td><td>2018-05-22</td><td>null</td><td>null</td><td>null</td><td>null</td><td>null</td><td>null</td><td>null</td><td>null</td><td>B</td><td>2018-05-21</td><td>2018-05-13</td><td>0</td><td>0</td><td>0</td></tr>\n",
       "<tr><td>U100364</td><td>2018-05-21</td><td>null</td><td>null</td><td>null</td><td>null</td><td>null</td><td>null</td><td>null</td><td>null</td><td>B</td><td>2018-05-21</td><td>2018-05-13</td><td>0</td><td>0</td><td>0</td></tr>\n",
       "<tr><td>U100364</td><td>2018-05-20</td><td>null</td><td>null</td><td>null</td><td>null</td><td>null</td><td>null</td><td>null</td><td>null</td><td>B</td><td>2018-05-21</td><td>2018-05-13</td><td>0</td><td>0</td><td>0</td></tr>\n",
       "<tr><td>U100364</td><td>2018-05-19</td><td>null</td><td>null</td><td>null</td><td>null</td><td>null</td><td>null</td><td>null</td><td>null</td><td>B</td><td>2018-05-21</td><td>2018-05-13</td><td>0</td><td>0</td><td>0</td></tr>\n",
       "<tr><td>U100364</td><td>2018-05-18</td><td>null</td><td>null</td><td>null</td><td>null</td><td>null</td><td>null</td><td>null</td><td>null</td><td>B</td><td>2018-05-21</td><td>2018-05-13</td><td>0</td><td>0</td><td>0</td></tr>\n",
       "<tr><td>U100364</td><td>2018-05-17</td><td>null</td><td>null</td><td>null</td><td>null</td><td>null</td><td>null</td><td>null</td><td>null</td><td>B</td><td>2018-05-21</td><td>2018-05-13</td><td>0</td><td>0</td><td>0</td></tr>\n",
       "<tr><td>U100364</td><td>2018-05-16</td><td>null</td><td>null</td><td>null</td><td>null</td><td>null</td><td>null</td><td>null</td><td>null</td><td>B</td><td>2018-05-21</td><td>2018-05-13</td><td>0</td><td>0</td><td>0</td></tr>\n",
       "<tr><td>U100364</td><td>2018-05-15</td><td>null</td><td>null</td><td>null</td><td>null</td><td>null</td><td>null</td><td>null</td><td>null</td><td>B</td><td>2018-05-21</td><td>2018-05-13</td><td>0</td><td>0</td><td>0</td></tr>\n",
       "<tr><td>U100364</td><td>2018-05-14</td><td>WI100000401415</td><td>pr100152</td><td>click</td><td>chrome</td><td>windows</td><td>vijayawada</td><td>india</td><td>null</td><td>B</td><td>2018-05-21</td><td>2018-05-13</td><td>1</td><td>2</td><td>1</td></tr>\n",
       "<tr><td>U100364</td><td>2018-05-14</td><td>WI100000401415</td><td>pr100152</td><td>null</td><td>chrome</td><td>windows</td><td>vijayawada</td><td>india</td><td>null</td><td>B</td><td>2018-05-21</td><td>2018-05-13</td><td>1</td><td>2</td><td>2</td></tr>\n",
       "<tr><td>U100364</td><td>2018-05-13</td><td>null</td><td>null</td><td>null</td><td>null</td><td>null</td><td>null</td><td>null</td><td>null</td><td>B</td><td>2018-05-21</td><td>2018-05-13</td><td>0</td><td>2</td><td>2</td></tr>\n",
       "<tr><td>U100364</td><td>2018-05-12</td><td>null</td><td>null</td><td>null</td><td>null</td><td>null</td><td>null</td><td>null</td><td>null</td><td>B</td><td>2018-05-21</td><td>2018-05-13</td><td>0</td><td>2</td><td>2</td></tr>\n",
       "<tr><td>U100364</td><td>2018-05-11</td><td>null</td><td>null</td><td>null</td><td>null</td><td>null</td><td>null</td><td>null</td><td>null</td><td>B</td><td>2018-05-21</td><td>2018-05-13</td><td>0</td><td>2</td><td>2</td></tr>\n",
       "<tr><td>U100364</td><td>2018-05-10</td><td>null</td><td>null</td><td>null</td><td>null</td><td>null</td><td>null</td><td>null</td><td>null</td><td>B</td><td>2018-05-21</td><td>2018-05-13</td><td>0</td><td>2</td><td>2</td></tr>\n",
       "<tr><td>U100364</td><td>2018-05-09</td><td>null</td><td>null</td><td>null</td><td>null</td><td>null</td><td>null</td><td>null</td><td>null</td><td>B</td><td>2018-05-21</td><td>2018-05-13</td><td>0</td><td>2</td><td>2</td></tr>\n",
       "</table>\n",
       "only showing top 20 rows\n"
      ],
      "text/plain": [
       "+-------+-------------+--------------+---------+--------+-------+-------+----------+-------+-----------+------------+-----------+------------+---------+-------+------+\n",
       "| UserID|VisitDateTime|   webClientID|ProductID|Activity|Browser|     OS|      City|Country|Signup Date|User Segment|last_7_days|last_15_days|Is_Active|cum_sum|cumsum|\n",
       "+-------+-------------+--------------+---------+--------+-------+-------+----------+-------+-----------+------------+-----------+------------+---------+-------+------+\n",
       "|U100364|   2018-05-27|          null|     null|    null|   null|   null|      null|   null|       null|           B| 2018-05-21|  2018-05-13|        0|      0|     0|\n",
       "|U100364|   2018-05-26|          null|     null|    null|   null|   null|      null|   null|       null|           B| 2018-05-21|  2018-05-13|        0|      0|     0|\n",
       "|U100364|   2018-05-25|          null|     null|    null|   null|   null|      null|   null|       null|           B| 2018-05-21|  2018-05-13|        0|      0|     0|\n",
       "|U100364|   2018-05-24|          null|     null|    null|   null|   null|      null|   null|       null|           B| 2018-05-21|  2018-05-13|        0|      0|     0|\n",
       "|U100364|   2018-05-23|          null|     null|    null|   null|   null|      null|   null|       null|           B| 2018-05-21|  2018-05-13|        0|      0|     0|\n",
       "|U100364|   2018-05-22|          null|     null|    null|   null|   null|      null|   null|       null|           B| 2018-05-21|  2018-05-13|        0|      0|     0|\n",
       "|U100364|   2018-05-21|          null|     null|    null|   null|   null|      null|   null|       null|           B| 2018-05-21|  2018-05-13|        0|      0|     0|\n",
       "|U100364|   2018-05-20|          null|     null|    null|   null|   null|      null|   null|       null|           B| 2018-05-21|  2018-05-13|        0|      0|     0|\n",
       "|U100364|   2018-05-19|          null|     null|    null|   null|   null|      null|   null|       null|           B| 2018-05-21|  2018-05-13|        0|      0|     0|\n",
       "|U100364|   2018-05-18|          null|     null|    null|   null|   null|      null|   null|       null|           B| 2018-05-21|  2018-05-13|        0|      0|     0|\n",
       "|U100364|   2018-05-17|          null|     null|    null|   null|   null|      null|   null|       null|           B| 2018-05-21|  2018-05-13|        0|      0|     0|\n",
       "|U100364|   2018-05-16|          null|     null|    null|   null|   null|      null|   null|       null|           B| 2018-05-21|  2018-05-13|        0|      0|     0|\n",
       "|U100364|   2018-05-15|          null|     null|    null|   null|   null|      null|   null|       null|           B| 2018-05-21|  2018-05-13|        0|      0|     0|\n",
       "|U100364|   2018-05-14|WI100000401415| pr100152|   click| chrome|windows|vijayawada|  india|       null|           B| 2018-05-21|  2018-05-13|        1|      2|     1|\n",
       "|U100364|   2018-05-14|WI100000401415| pr100152|    null| chrome|windows|vijayawada|  india|       null|           B| 2018-05-21|  2018-05-13|        1|      2|     2|\n",
       "|U100364|   2018-05-13|          null|     null|    null|   null|   null|      null|   null|       null|           B| 2018-05-21|  2018-05-13|        0|      2|     2|\n",
       "|U100364|   2018-05-12|          null|     null|    null|   null|   null|      null|   null|       null|           B| 2018-05-21|  2018-05-13|        0|      2|     2|\n",
       "|U100364|   2018-05-11|          null|     null|    null|   null|   null|      null|   null|       null|           B| 2018-05-21|  2018-05-13|        0|      2|     2|\n",
       "|U100364|   2018-05-10|          null|     null|    null|   null|   null|      null|   null|       null|           B| 2018-05-21|  2018-05-13|        0|      2|     2|\n",
       "|U100364|   2018-05-09|          null|     null|    null|   null|   null|      null|   null|       null|           B| 2018-05-21|  2018-05-13|        0|      2|     2|\n",
       "+-------+-------------+--------------+---------+--------+-------+-------+----------+-------+-----------+------------+-----------+------------+---------+-------+------+\n",
       "only showing top 20 rows"
      ]
     },
     "execution_count": 134,
     "metadata": {},
     "output_type": "execute_result"
    }
   ],
   "source": [
    "final_merged_data.withColumn(\"Signup Date\", to_date(\"Signup Date\",format=\"dd-MMM-yyyy\"))"
   ]
  },
  {
   "cell_type": "code",
   "execution_count": 137,
   "metadata": {},
   "outputs": [
    {
     "data": {
      "text/html": [
       "<table border='1'>\n",
       "<tr><th>UserID</th><th>Signup Date</th><th>User_Vintage</th></tr>\n",
       "<tr><td>U100364</td><td>2017-07-23 16:32:...</td><td>309</td></tr>\n",
       "<tr><td>U100499</td><td>2017-02-08 10:27:...</td><td>474</td></tr>\n",
       "<tr><td>U100608</td><td>2017-03-01 08:13:...</td><td>453</td></tr>\n",
       "<tr><td>U100611</td><td>2016-06-30 10:22:...</td><td>697</td></tr>\n",
       "<tr><td>U100754</td><td>2016-08-24 19:18:...</td><td>642</td></tr>\n",
       "<tr><td>U100999</td><td>2013-04-03 16:32:...</td><td>1881</td></tr>\n",
       "<tr><td>U102315</td><td>2018-03-03 15:38:...</td><td>86</td></tr>\n",
       "<tr><td>U103221</td><td>2018-04-03 09:28:...</td><td>55</td></tr>\n",
       "<tr><td>U103279</td><td>2018-01-27 11:23:...</td><td>121</td></tr>\n",
       "<tr><td>U103647</td><td>2018-02-17 19:03:...</td><td>100</td></tr>\n",
       "<tr><td>U103859</td><td>2015-05-29 11:56:...</td><td>1095</td></tr>\n",
       "<tr><td>U103874</td><td>2015-12-31 13:12:...</td><td>879</td></tr>\n",
       "<tr><td>U103924</td><td>2017-10-06 13:16:...</td><td>234</td></tr>\n",
       "<tr><td>U104238</td><td>2017-03-30 10:03:...</td><td>424</td></tr>\n",
       "<tr><td>U104440</td><td>2018-02-01 18:19:...</td><td>116</td></tr>\n",
       "<tr><td>U104625</td><td>2016-08-10 08:14:...</td><td>656</td></tr>\n",
       "<tr><td>U104644</td><td>2018-03-29 11:59:...</td><td>60</td></tr>\n",
       "<tr><td>U104722</td><td>2018-03-24 22:51:...</td><td>65</td></tr>\n",
       "<tr><td>U105187</td><td>2018-02-18 15:26:...</td><td>99</td></tr>\n",
       "<tr><td>U105380</td><td>2015-11-21 13:55:...</td><td>919</td></tr>\n",
       "</table>\n",
       "only showing top 20 rows\n"
      ],
      "text/plain": [
       "+-------+--------------------+------------+\n",
       "| UserID|         Signup Date|User_Vintage|\n",
       "+-------+--------------------+------------+\n",
       "|U100364|2017-07-23 16:32:...|         309|\n",
       "|U100499|2017-02-08 10:27:...|         474|\n",
       "|U100608|2017-03-01 08:13:...|         453|\n",
       "|U100611|2016-06-30 10:22:...|         697|\n",
       "|U100754|2016-08-24 19:18:...|         642|\n",
       "|U100999|2013-04-03 16:32:...|        1881|\n",
       "|U102315|2018-03-03 15:38:...|          86|\n",
       "|U103221|2018-04-03 09:28:...|          55|\n",
       "|U103279|2018-01-27 11:23:...|         121|\n",
       "|U103647|2018-02-17 19:03:...|         100|\n",
       "|U103859|2015-05-29 11:56:...|        1095|\n",
       "|U103874|2015-12-31 13:12:...|         879|\n",
       "|U103924|2017-10-06 13:16:...|         234|\n",
       "|U104238|2017-03-30 10:03:...|         424|\n",
       "|U104440|2018-02-01 18:19:...|         116|\n",
       "|U104625|2016-08-10 08:14:...|         656|\n",
       "|U104644|2018-03-29 11:59:...|          60|\n",
       "|U104722|2018-03-24 22:51:...|          65|\n",
       "|U105187|2018-02-18 15:26:...|          99|\n",
       "|U105380|2015-11-21 13:55:...|         919|\n",
       "+-------+--------------------+------------+\n",
       "only showing top 20 rows"
      ]
     },
     "execution_count": 137,
     "metadata": {},
     "output_type": "execute_result"
    }
   ],
   "source": [
    "# User_Vintage\n",
    "\n",
    "final_merged_data\\\n",
    "    .drop_duplicates([\"UserID\"])\\\n",
    "    .select(\"UserID\", \"Signup Date\")\\\n",
    "    .withColumn(\"User_Vintage\", datediff(to_date(lit(ref_date),format=\"dd-MMM-yyyy\"),\n",
    "    to_date(\"Signup Date\")))"
   ]
  },
  {
   "cell_type": "code",
   "execution_count": 112,
   "metadata": {},
   "outputs": [
    {
     "data": {
      "text/html": [
       "<table border='1'>\n",
       "<tr><th>UserID</th><th>Most_Active_OS</th></tr>\n",
       "<tr><td>U100002</td><td>android</td></tr>\n",
       "<tr><td>U100003</td><td>windows</td></tr>\n",
       "<tr><td>U100004</td><td>windows</td></tr>\n",
       "<tr><td>U100005</td><td>android</td></tr>\n",
       "<tr><td>U100006</td><td>android</td></tr>\n",
       "<tr><td>U100007</td><td>windows</td></tr>\n",
       "<tr><td>U100008</td><td>android</td></tr>\n",
       "<tr><td>U100009</td><td>android</td></tr>\n",
       "<tr><td>U100012</td><td>mac os x</td></tr>\n",
       "<tr><td>U100013</td><td>mac os x</td></tr>\n",
       "<tr><td>U100014</td><td>windows</td></tr>\n",
       "<tr><td>U100015</td><td>android</td></tr>\n",
       "<tr><td>U100016</td><td>android</td></tr>\n",
       "<tr><td>U100017</td><td>windows</td></tr>\n",
       "<tr><td>U100018</td><td>windows</td></tr>\n",
       "<tr><td>U100019</td><td>windows</td></tr>\n",
       "<tr><td>U100020</td><td>mac os x</td></tr>\n",
       "<tr><td>U100023</td><td>windows</td></tr>\n",
       "<tr><td>U100024</td><td>android</td></tr>\n",
       "<tr><td>U100025</td><td>windows</td></tr>\n",
       "</table>\n",
       "only showing top 20 rows\n"
      ],
      "text/plain": [
       "+-------+--------------+\n",
       "| UserID|Most_Active_OS|\n",
       "+-------+--------------+\n",
       "|U100002|       android|\n",
       "|U100003|       windows|\n",
       "|U100004|       windows|\n",
       "|U100005|       android|\n",
       "|U100006|       android|\n",
       "|U100007|       windows|\n",
       "|U100008|       android|\n",
       "|U100009|       android|\n",
       "|U100012|      mac os x|\n",
       "|U100013|      mac os x|\n",
       "|U100014|       windows|\n",
       "|U100015|       android|\n",
       "|U100016|       android|\n",
       "|U100017|       windows|\n",
       "|U100018|       windows|\n",
       "|U100019|       windows|\n",
       "|U100020|      mac os x|\n",
       "|U100023|       windows|\n",
       "|U100024|       android|\n",
       "|U100025|       windows|\n",
       "+-------+--------------+\n",
       "only showing top 20 rows"
      ]
     },
     "execution_count": 112,
     "metadata": {},
     "output_type": "execute_result"
    }
   ],
   "source": [
    "# Most_Active_OS\n",
    "counts = final_merged_data.groupBy([\"UserID\", \"OS\"]).count()\n",
    "counts = counts.filter(col(\"OS\").isNotNull()).orderBy(\"UserID\", desc(\"count\"))\n",
    "win = Window().partitionBy('UserID').orderBy(col('count').desc())\n",
    "result = (counts\n",
    "          .withColumn('row_num', row_number().over(win))\n",
    "          .where(col('row_num') == 1)\n",
    "          .select('UserID', 'OS')\n",
    "         )\n",
    "result.orderBy(\"UserID\").withColumnRenamed(\"OS\", \"Most_Active_OS\")"
   ]
  },
  {
   "cell_type": "code",
   "execution_count": 115,
   "metadata": {},
   "outputs": [
    {
     "data": {
      "text/html": [
       "<table border='1'>\n",
       "<tr><th>UserID</th><th>ProductID</th></tr>\n",
       "<tr><td>U100499</td><td>pr100051</td></tr>\n",
       "<tr><td>U100608</td><td>pr100341</td></tr>\n",
       "<tr><td>U100611</td><td>pr100138</td></tr>\n",
       "<tr><td>U100754</td><td>pr100166</td></tr>\n",
       "<tr><td>U100999</td><td>pr100017</td></tr>\n",
       "<tr><td>U102315</td><td>pr100027</td></tr>\n",
       "<tr><td>U103221</td><td>pr100483</td></tr>\n",
       "<tr><td>U103647</td><td>pr100166</td></tr>\n",
       "<tr><td>U103859</td><td>pr100321</td></tr>\n",
       "<tr><td>U103874</td><td>pr101042</td></tr>\n",
       "<tr><td>U103924</td><td>pr101039</td></tr>\n",
       "<tr><td>U104238</td><td>pr101367</td></tr>\n",
       "<tr><td>U104625</td><td>pr100210</td></tr>\n",
       "<tr><td>U104644</td><td>pr100771</td></tr>\n",
       "<tr><td>U104722</td><td>pr100166</td></tr>\n",
       "<tr><td>U105187</td><td>pr100017</td></tr>\n",
       "<tr><td>U105380</td><td>pr101800</td></tr>\n",
       "<tr><td>U105483</td><td>pr100145</td></tr>\n",
       "<tr><td>U105501</td><td>pr100267</td></tr>\n",
       "<tr><td>U105544</td><td>pr100324</td></tr>\n",
       "</table>\n",
       "only showing top 20 rows\n"
      ],
      "text/plain": [
       "+-------+---------+\n",
       "| UserID|ProductID|\n",
       "+-------+---------+\n",
       "|U100499| pr100051|\n",
       "|U100608| pr100341|\n",
       "|U100611| pr100138|\n",
       "|U100754| pr100166|\n",
       "|U100999| pr100017|\n",
       "|U102315| pr100027|\n",
       "|U103221| pr100483|\n",
       "|U103647| pr100166|\n",
       "|U103859| pr100321|\n",
       "|U103874| pr101042|\n",
       "|U103924| pr101039|\n",
       "|U104238| pr101367|\n",
       "|U104625| pr100210|\n",
       "|U104644| pr100771|\n",
       "|U104722| pr100166|\n",
       "|U105187| pr100017|\n",
       "|U105380| pr101800|\n",
       "|U105483| pr100145|\n",
       "|U105501| pr100267|\n",
       "|U105544| pr100324|\n",
       "+-------+---------+\n",
       "only showing top 20 rows"
      ]
     },
     "execution_count": 115,
     "metadata": {},
     "output_type": "execute_result"
    }
   ],
   "source": [
    "# Recently_Viewed_Product\n",
    "final_merged_data.filter(col(\"Activity\") == \"pageload\")\\\n",
    "    .filter(col(\"ProductID\").isNotNull())\\\n",
    "    .orderBy(\"UserID\", desc(\"VisitDateTime\"))\\\n",
    "    .drop_duplicates([\"UserID\"])\\\n",
    "    .select(\"UserID\", \"ProductID\")"
   ]
  },
  {
   "cell_type": "code",
   "execution_count": 90,
   "metadata": {},
   "outputs": [
    {
     "data": {
      "text/html": [
       "<table border='1'>\n",
       "<tr><th>UserID</th><th>No_of_days_Visited_7_Days</th></tr>\n",
       "<tr><td>U100003</td><td>1</td></tr>\n",
       "<tr><td>U100004</td><td>1</td></tr>\n",
       "<tr><td>U100005</td><td>1</td></tr>\n",
       "<tr><td>U100006</td><td>1</td></tr>\n",
       "<tr><td>U100008</td><td>6</td></tr>\n",
       "<tr><td>U100009</td><td>4</td></tr>\n",
       "<tr><td>U100012</td><td>2</td></tr>\n",
       "<tr><td>U100013</td><td>3</td></tr>\n",
       "<tr><td>U100014</td><td>2</td></tr>\n",
       "<tr><td>U100015</td><td>1</td></tr>\n",
       "<tr><td>U100016</td><td>1</td></tr>\n",
       "<tr><td>U100017</td><td>1</td></tr>\n",
       "<tr><td>U100018</td><td>5</td></tr>\n",
       "<tr><td>U100019</td><td>3</td></tr>\n",
       "<tr><td>U100023</td><td>5</td></tr>\n",
       "<tr><td>U100024</td><td>1</td></tr>\n",
       "<tr><td>U100026</td><td>3</td></tr>\n",
       "<tr><td>U100027</td><td>6</td></tr>\n",
       "<tr><td>U100029</td><td>1</td></tr>\n",
       "<tr><td>U100030</td><td>3</td></tr>\n",
       "</table>\n",
       "only showing top 20 rows\n"
      ],
      "text/plain": [
       "+-------+-------------------------+\n",
       "| UserID|No_of_days_Visited_7_Days|\n",
       "+-------+-------------------------+\n",
       "|U100003|                        1|\n",
       "|U100004|                        1|\n",
       "|U100005|                        1|\n",
       "|U100006|                        1|\n",
       "|U100008|                        6|\n",
       "|U100009|                        4|\n",
       "|U100012|                        2|\n",
       "|U100013|                        3|\n",
       "|U100014|                        2|\n",
       "|U100015|                        1|\n",
       "|U100016|                        1|\n",
       "|U100017|                        1|\n",
       "|U100018|                        5|\n",
       "|U100019|                        3|\n",
       "|U100023|                        5|\n",
       "|U100024|                        1|\n",
       "|U100026|                        3|\n",
       "|U100027|                        6|\n",
       "|U100029|                        1|\n",
       "|U100030|                        3|\n",
       "+-------+-------------------------+\n",
       "only showing top 20 rows"
      ]
     },
     "execution_count": 90,
     "metadata": {},
     "output_type": "execute_result"
    }
   ],
   "source": [
    "temp1 = final_merged_data.filter((col(\"VisitDateTime\") >= col(\"last_7_days\")) & (col(\"webClientID\").isNotNull()))\\\n",
    "    .groupBy(\"UserID\").agg(countDistinct(\"VisitDateTime\").alias(\"No_of_days_Visited_7_Days\"))\\\n",
    "        .orderBy(\"UserID\")\n",
    "temp1"
   ]
  },
  {
   "cell_type": "code",
   "execution_count": 92,
   "metadata": {},
   "outputs": [
    {
     "data": {
      "text/html": [
       "<table border='1'>\n",
       "<tr><th>UserID</th><th>Activity</th><th>count</th></tr>\n",
       "<tr><td>U100031</td><td>pageload</td><td>8</td></tr>\n",
       "<tr><td>U105360</td><td>pageload</td><td>4</td></tr>\n",
       "<tr><td>U117118</td><td>null</td><td>1</td></tr>\n",
       "<tr><td>U104675</td><td>pageload</td><td>2</td></tr>\n",
       "<tr><td>U109048</td><td>pageload</td><td>1</td></tr>\n",
       "<tr><td>U104238</td><td>null</td><td>27</td></tr>\n",
       "<tr><td>U111729</td><td>click</td><td>2</td></tr>\n",
       "<tr><td>U104888</td><td>pageload</td><td>2</td></tr>\n",
       "<tr><td>U113579</td><td>pageload</td><td>1</td></tr>\n",
       "<tr><td>U110149</td><td>null</td><td>4</td></tr>\n",
       "<tr><td>U114266</td><td>pageload</td><td>1</td></tr>\n",
       "<tr><td>U108968</td><td>pageload</td><td>1</td></tr>\n",
       "<tr><td>U116749</td><td>null</td><td>28</td></tr>\n",
       "<tr><td>U118819</td><td>pageload</td><td>2</td></tr>\n",
       "<tr><td>U105995</td><td>pageload</td><td>9</td></tr>\n",
       "<tr><td>U104440</td><td>null</td><td>1</td></tr>\n",
       "<tr><td>U111653</td><td>pageload</td><td>1</td></tr>\n",
       "<tr><td>U108899</td><td>pageload</td><td>2</td></tr>\n",
       "<tr><td>U117766</td><td>click</td><td>1</td></tr>\n",
       "<tr><td>U101181</td><td>click</td><td>5</td></tr>\n",
       "</table>\n",
       "only showing top 20 rows\n"
      ],
      "text/plain": [
       "+-------+--------+-----+\n",
       "| UserID|Activity|count|\n",
       "+-------+--------+-----+\n",
       "|U100031|pageload|    8|\n",
       "|U105360|pageload|    4|\n",
       "|U117118|    null|    1|\n",
       "|U104675|pageload|    2|\n",
       "|U109048|pageload|    1|\n",
       "|U104238|    null|   27|\n",
       "|U111729|   click|    2|\n",
       "|U104888|pageload|    2|\n",
       "|U113579|pageload|    1|\n",
       "|U110149|    null|    4|\n",
       "|U114266|pageload|    1|\n",
       "|U108968|pageload|    1|\n",
       "|U116749|    null|   28|\n",
       "|U118819|pageload|    2|\n",
       "|U105995|pageload|    9|\n",
       "|U104440|    null|    1|\n",
       "|U111653|pageload|    1|\n",
       "|U108899|pageload|    2|\n",
       "|U117766|   click|    1|\n",
       "|U101181|   click|    5|\n",
       "+-------+--------+-----+\n",
       "only showing top 20 rows"
      ]
     },
     "execution_count": 92,
     "metadata": {},
     "output_type": "execute_result"
    }
   ],
   "source": [
    "final_merged_data.filter((col(\"VisitDateTime\") >= col(\"last_7_days\")) & (col(\"webClientID\").isNotNull()))\\\n",
    "    .groupBy([\"UserID\",\"Activity\"]).count()"
   ]
  },
  {
   "cell_type": "code",
   "execution_count": 131,
   "metadata": {},
   "outputs": [
    {
     "data": {
      "text/html": [
       "<table border='1'>\n",
       "<tr><th>UserID</th><th>click</th><th>pageload</th></tr>\n",
       "<tr><td>U100003</td><td>2</td><td>1</td></tr>\n",
       "<tr><td>U100008</td><td>23</td><td>21</td></tr>\n",
       "<tr><td>U100012</td><td>14</td><td>5</td></tr>\n",
       "<tr><td>U100014</td><td>2</td><td>1</td></tr>\n",
       "<tr><td>U100015</td><td>8</td><td>3</td></tr>\n",
       "<tr><td>U100018</td><td>21</td><td>7</td></tr>\n",
       "<tr><td>U100019</td><td>15</td><td>5</td></tr>\n",
       "<tr><td>U100026</td><td>2</td><td>1</td></tr>\n",
       "<tr><td>U100027</td><td>36</td><td>15</td></tr>\n",
       "<tr><td>U100030</td><td>4</td><td>2</td></tr>\n",
       "<tr><td>U100031</td><td>61</td><td>8</td></tr>\n",
       "<tr><td>U100032</td><td>205</td><td>4</td></tr>\n",
       "<tr><td>U100036</td><td>11</td><td>3</td></tr>\n",
       "<tr><td>U100043</td><td>28</td><td>14</td></tr>\n",
       "<tr><td>U100065</td><td>3</td><td>2</td></tr>\n",
       "<tr><td>U100067</td><td>25</td><td>4</td></tr>\n",
       "<tr><td>U100069</td><td>69</td><td>8</td></tr>\n",
       "<tr><td>U100070</td><td>58</td><td>36</td></tr>\n",
       "<tr><td>U100079</td><td>36</td><td>4</td></tr>\n",
       "<tr><td>U100080</td><td>30</td><td>9</td></tr>\n",
       "</table>\n",
       "only showing top 20 rows\n"
      ],
      "text/plain": [
       "+-------+-----+--------+\n",
       "| UserID|click|pageload|\n",
       "+-------+-----+--------+\n",
       "|U100003|    2|       1|\n",
       "|U100008|   23|      21|\n",
       "|U100012|   14|       5|\n",
       "|U100014|    2|       1|\n",
       "|U100015|    8|       3|\n",
       "|U100018|   21|       7|\n",
       "|U100019|   15|       5|\n",
       "|U100026|    2|       1|\n",
       "|U100027|   36|      15|\n",
       "|U100030|    4|       2|\n",
       "|U100031|   61|       8|\n",
       "|U100032|  205|       4|\n",
       "|U100036|   11|       3|\n",
       "|U100043|   28|      14|\n",
       "|U100065|    3|       2|\n",
       "|U100067|   25|       4|\n",
       "|U100069|   69|       8|\n",
       "|U100070|   58|      36|\n",
       "|U100079|   36|       4|\n",
       "|U100080|   30|       9|\n",
       "+-------+-----+--------+\n",
       "only showing top 20 rows"
      ]
     },
     "execution_count": 131,
     "metadata": {},
     "output_type": "execute_result"
    }
   ],
   "source": [
    "# Pageloads_last_7_days & Clicks_last_7_days\n",
    "test = final_merged_data.filter((col(\"VisitDateTime\") >= col(\"last_7_days\")) & (col(\"webClientID\").isNotNull()))\\\n",
    "    .groupBy(\"UserID\").pivot(\"Activity\").count().drop(\"null\").orderBy(\"UserID\")\n",
    "\n",
    "test.filter((col(\"click\")-col(\"pageload\")>0))"
   ]
  },
  {
   "cell_type": "code",
   "execution_count": 127,
   "metadata": {},
   "outputs": [
    {
     "data": {
      "text/html": [
       "<table border='1'>\n",
       "<tr><th>UserID</th><th>Most_Viewed_product_15_Days</th></tr>\n",
       "<tr><td>U100364</td><td>pr100152</td></tr>\n",
       "<tr><td>U100499</td><td>pr101042</td></tr>\n",
       "<tr><td>U100608</td><td>pr100283</td></tr>\n",
       "<tr><td>U100611</td><td>pr100138</td></tr>\n",
       "<tr><td>U100754</td><td>pr101062</td></tr>\n",
       "<tr><td>U100999</td><td>pr100017</td></tr>\n",
       "<tr><td>U102315</td><td>pr100027</td></tr>\n",
       "<tr><td>U103221</td><td>pr100483</td></tr>\n",
       "<tr><td>U103647</td><td>pr100390</td></tr>\n",
       "<tr><td>U103859</td><td>pr100252</td></tr>\n",
       "<tr><td>U103874</td><td>pr101042</td></tr>\n",
       "<tr><td>U103924</td><td>pr100945</td></tr>\n",
       "<tr><td>U104238</td><td>pr101042</td></tr>\n",
       "<tr><td>U104440</td><td>pr100055</td></tr>\n",
       "<tr><td>U104625</td><td>pr101744</td></tr>\n",
       "<tr><td>U104644</td><td>pr100771</td></tr>\n",
       "<tr><td>U104722</td><td>pr100166</td></tr>\n",
       "<tr><td>U105187</td><td>pr100017</td></tr>\n",
       "<tr><td>U105380</td><td>pr101800</td></tr>\n",
       "<tr><td>U105483</td><td>pr100145</td></tr>\n",
       "</table>\n",
       "only showing top 20 rows\n"
      ],
      "text/plain": [
       "+-------+---------------------------+\n",
       "| UserID|Most_Viewed_product_15_Days|\n",
       "+-------+---------------------------+\n",
       "|U100364|                   pr100152|\n",
       "|U100499|                   pr101042|\n",
       "|U100608|                   pr100283|\n",
       "|U100611|                   pr100138|\n",
       "|U100754|                   pr101062|\n",
       "|U100999|                   pr100017|\n",
       "|U102315|                   pr100027|\n",
       "|U103221|                   pr100483|\n",
       "|U103647|                   pr100390|\n",
       "|U103859|                   pr100252|\n",
       "|U103874|                   pr101042|\n",
       "|U103924|                   pr100945|\n",
       "|U104238|                   pr101042|\n",
       "|U104440|                   pr100055|\n",
       "|U104625|                   pr101744|\n",
       "|U104644|                   pr100771|\n",
       "|U104722|                   pr100166|\n",
       "|U105187|                   pr100017|\n",
       "|U105380|                   pr101800|\n",
       "|U105483|                   pr100145|\n",
       "+-------+---------------------------+\n",
       "only showing top 20 rows"
      ]
     },
     "execution_count": 127,
     "metadata": {},
     "output_type": "execute_result"
    }
   ],
   "source": [
    "# Most_Viewed_product_15_Days\n",
    "last_15_days = final_merged_data.filter((col(\"VisitDateTime\") >= col(\"last_15_days\")) & (col(\"ProductID\").isNotNull()))\\\n",
    "    .orderBy(\"UserID\", \"VisitDateTime\")\n",
    "\n",
    "counts = last_15_days.groupBy([\"UserID\", \"ProductID\"]).count()\n",
    "counts = counts.filter(col(\"ProductID\").isNotNull()).orderBy(\"UserID\", desc(\"count\"))\n",
    "win = Window().partitionBy('UserID').orderBy(col('count').desc())\n",
    "most_viewed_product = (counts\n",
    "          .withColumn('row_num', row_number().over(win))\n",
    "          .where(col('row_num') == 1)\n",
    "          .drop_duplicates([\"UserID\"])\n",
    "          .select('UserID', 'ProductID')\n",
    "         )\n",
    "most_viewed_product = most_viewed_product.withColumnRenamed(\"ProductID\", \"Most_Viewed_product_15_Days\")\n",
    "most_viewed_product"
   ]
  },
  {
   "cell_type": "code",
   "execution_count": 129,
   "metadata": {},
   "outputs": [
    {
     "data": {
      "text/html": [
       "<table border='1'>\n",
       "<tr><th>UserID</th><th>No_Of_Products_Viewed_15_Days</th></tr>\n",
       "<tr><td>U121194</td><td>3</td></tr>\n",
       "<tr><td>U117953</td><td>4</td></tr>\n",
       "<tr><td>U100499</td><td>50</td></tr>\n",
       "<tr><td>U104625</td><td>6</td></tr>\n",
       "<tr><td>U109554</td><td>4</td></tr>\n",
       "<tr><td>U128906</td><td>1</td></tr>\n",
       "<tr><td>U100754</td><td>8</td></tr>\n",
       "<tr><td>U112607</td><td>2</td></tr>\n",
       "<tr><td>U105501</td><td>5</td></tr>\n",
       "<tr><td>U127748</td><td>2</td></tr>\n",
       "<tr><td>U129018</td><td>4</td></tr>\n",
       "<tr><td>U105775</td><td>13</td></tr>\n",
       "<tr><td>U116320</td><td>2</td></tr>\n",
       "<tr><td>U107157</td><td>12</td></tr>\n",
       "<tr><td>U117118</td><td>3</td></tr>\n",
       "<tr><td>U121504</td><td>5</td></tr>\n",
       "<tr><td>U100608</td><td>3</td></tr>\n",
       "<tr><td>U117383</td><td>4</td></tr>\n",
       "<tr><td>U116488</td><td>3</td></tr>\n",
       "<tr><td>U107230</td><td>6</td></tr>\n",
       "</table>\n",
       "only showing top 20 rows\n"
      ],
      "text/plain": [
       "+-------+-----------------------------+\n",
       "| UserID|No_Of_Products_Viewed_15_Days|\n",
       "+-------+-----------------------------+\n",
       "|U121194|                            3|\n",
       "|U117953|                            4|\n",
       "|U100499|                           50|\n",
       "|U104625|                            6|\n",
       "|U109554|                            4|\n",
       "|U128906|                            1|\n",
       "|U100754|                            8|\n",
       "|U112607|                            2|\n",
       "|U105501|                            5|\n",
       "|U127748|                            2|\n",
       "|U129018|                            4|\n",
       "|U105775|                           13|\n",
       "|U116320|                            2|\n",
       "|U107157|                           12|\n",
       "|U117118|                            3|\n",
       "|U121504|                            5|\n",
       "|U100608|                            3|\n",
       "|U117383|                            4|\n",
       "|U116488|                            3|\n",
       "|U107230|                            6|\n",
       "+-------+-----------------------------+\n",
       "only showing top 20 rows"
      ]
     },
     "execution_count": 129,
     "metadata": {},
     "output_type": "execute_result"
    }
   ],
   "source": [
    "no_products_viewed = last_15_days.groupBy(\"UserID\").agg(expr('count(distinct ProductID)').alias('No_Of_Products_Viewed_15_Days'))\n",
    "no_products_viewed"
   ]
  }
 ],
 "metadata": {
  "interpreter": {
   "hash": "1ade907cebe3c2ff8001285e46f5cae2c4a10083ac18452c63874e484493fc09"
  },
  "kernelspec": {
   "display_name": "Python 3.7.10 64-bit ('pyspark_env': conda)",
   "name": "python3"
  },
  "language_info": {
   "codemirror_mode": {
    "name": "ipython",
    "version": 3
   },
   "file_extension": ".py",
   "mimetype": "text/x-python",
   "name": "python",
   "nbconvert_exporter": "python",
   "pygments_lexer": "ipython3",
   "version": "3.7.10"
  },
  "orig_nbformat": 4
 },
 "nbformat": 4,
 "nbformat_minor": 2
}